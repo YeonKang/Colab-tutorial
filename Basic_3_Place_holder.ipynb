{
  "nbformat": 4,
  "nbformat_minor": 0,
  "metadata": {
    "colab": {
      "name": "Basic - 3. Place holder.ipynb",
      "provenance": [],
      "authorship_tag": "ABX9TyNH8tp25zakfWWGdYv9LAjD"
    },
    "kernelspec": {
      "name": "python3",
      "display_name": "Python 3"
    }
  },
  "cells": [
    {
      "cell_type": "code",
      "metadata": {
        "id": "ZcF_1esmXEZQ",
        "colab_type": "code",
        "colab": {
          "base_uri": "https://localhost:8080/",
          "height": 71
        },
        "outputId": "c9e5da21-5ec8-4933-dc68-0ccb7cda0d50"
      },
      "source": [
        "#import tensorflow version 1.x\n",
        "import tensorflow.compat.v1 as tf\n",
        "tf.disable_eager_execution()\n",
        "\n",
        "#if you want to use tensorflow version 2, use below\n",
        "#import tensorflow as tf\n",
        "\n",
        "#tf.Variable(initial_value, trainable, name) -> random_normal, truncated_nomal, random_uniform, constant, zeros, ones\n",
        "#define linear regression model\n",
        "W = tf.Variable(tf.random_normal(shape=[1]))\n",
        "b = tf.Variable(tf.random_normal(shape=[1]))\n",
        "x = tf.placeholder(tf.float32)\n",
        "linear_model = W*x + b\n",
        "\n",
        "#define placeholder\n",
        "y = tf.placeholder(tf.float32)\n",
        "\n",
        "#define loss function\n",
        "loss = tf.reduce_mean(tf.square(linear_model-y)) #MSE loss function mean{(y'-y)^2}\n",
        "\n",
        "#define gradien descent optimizer\n",
        "optimizer = tf.train.GradientDescentOptimizer(0.01) #set learning rate = 0.01\n",
        "train_step = optimizer.minimize(loss)\n",
        "\n",
        "#set input and output data\n",
        "x_train = [1,2,3,4]\n",
        "y_train = [2,4,6,8]\n",
        "\n",
        "#open session and initialize parameter W, b\n",
        "sess = tf.Session()\n",
        "sess.run(tf.global_variables_initializer())\n",
        "\n",
        "#train 1000 times\n",
        "for i in range(1000):\n",
        "  sess.run(train_step, feed_dict={x:x_train, y:y_train})\n",
        "\n",
        "#Check W and b value\n",
        "print(\"W: \",sess.run(W))\n",
        "print(\"b: \",sess.run(b))\n",
        "\n",
        "#set x_test value\n",
        "x_test = [3.5, 5, 5.5, 6]\n",
        "\n",
        "#see the result\n",
        "print(sess.run(linear_model, feed_dict={x:x_test}))\n",
        "\n",
        "#close session\n",
        "sess.close()"
      ],
      "execution_count": 15,
      "outputs": [
        {
          "output_type": "stream",
          "text": [
            "W:  [1.9915761]\n",
            "b:  [0.02476732]\n",
            "[ 6.9952836  9.982647  10.9784355 11.974223 ]\n"
          ],
          "name": "stdout"
        }
      ]
    }
  ]
}