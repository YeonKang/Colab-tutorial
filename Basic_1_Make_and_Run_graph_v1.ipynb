{
  "nbformat": 4,
  "nbformat_minor": 0,
  "metadata": {
    "colab": {
      "name": "Basic - 1. Make and Run graph_v1.ipynb",
      "provenance": [],
      "authorship_tag": "ABX9TyPvWHUxRXCJHDgIP9hqxoMQ"
    },
    "kernelspec": {
      "name": "python3",
      "display_name": "Python 3"
    }
  },
  "cells": [
    {
      "cell_type": "code",
      "metadata": {
        "id": "d11EbOFE0zOQ",
        "colab_type": "code",
        "colab": {
          "base_uri": "https://localhost:8080/",
          "height": 35
        },
        "outputId": "c354c35a-0dc0-4a25-9b11-e0e5bf08f98f"
      },
      "source": [
        "#import tensorflow version 1.x\n",
        "import tensorflow.compat.v1 as tf\n",
        "tf.disable_eager_execution()\n",
        "\n",
        "#if you want to use tensorflow version 2, use below\n",
        "#import tensorflow as tf\n",
        "\n",
        "#define node\n",
        "#tf.constant(value, dypte, shape, name(optional))\n",
        "node1 = tf.constant(3.0, dtype=tf.float32)\n",
        "node2 = tf.constant(4.0) #dytpe=tf.float32 same as node1\n",
        "print(node1, node2)"
      ],
      "execution_count": null,
      "outputs": [
        {
          "output_type": "stream",
          "text": [
            "Tensor(\"Const_4:0\", shape=(), dtype=float32) Tensor(\"Const_5:0\", shape=(), dtype=float32)\n"
          ],
          "name": "stdout"
        }
      ]
    },
    {
      "cell_type": "code",
      "metadata": {
        "id": "gmImARsk-b10",
        "colab_type": "code",
        "colab": {
          "base_uri": "https://localhost:8080/",
          "height": 35
        },
        "outputId": "a8941366-1e53-4c67-cce4-970a8dafc434"
      },
      "source": [
        "#open session and run graph\n",
        "#to use the graph, you should open a session\n",
        "sess = tf.Session()\n",
        "print(sess.run([node1, node2]))"
      ],
      "execution_count": null,
      "outputs": [
        {
          "output_type": "stream",
          "text": [
            "[3.0, 4.0]\n"
          ],
          "name": "stdout"
        }
      ]
    },
    {
      "cell_type": "code",
      "metadata": {
        "id": "2UK2zsQN-vLQ",
        "colab_type": "code",
        "colab": {
          "base_uri": "https://localhost:8080/",
          "height": 53
        },
        "outputId": "df2e0357-205c-4d54-d689-e26f5795d9ee"
      },
      "source": [
        "#define node3 as plus function\n",
        "node3 = tf.add(node1, node2)\n",
        "print(\"node3:\", node3)\n",
        "print(\"sess.run(node3):\", sess.run(node3))"
      ],
      "execution_count": null,
      "outputs": [
        {
          "output_type": "stream",
          "text": [
            "node3: Tensor(\"Add:0\", shape=(), dtype=float32)\n",
            "sess.run(node3): 7.0\n"
          ],
          "name": "stdout"
        }
      ]
    },
    {
      "cell_type": "code",
      "metadata": {
        "id": "2Lj1oLHz-yC0",
        "colab_type": "code",
        "colab": {}
      },
      "source": [
        "#close session\n",
        "sess.close()"
      ],
      "execution_count": null,
      "outputs": []
    }
  ]
}