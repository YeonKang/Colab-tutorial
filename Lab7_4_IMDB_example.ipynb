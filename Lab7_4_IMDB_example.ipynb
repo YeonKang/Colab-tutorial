{
  "nbformat": 4,
  "nbformat_minor": 0,
  "metadata": {
    "colab": {
      "name": "Lab7_4_IMDB_example.ipynb",
      "provenance": [],
      "authorship_tag": "ABX9TyO25S2rRXOBWELP4RMWF6i9",
      "include_colab_link": true
    },
    "kernelspec": {
      "name": "python3",
      "display_name": "Python 3"
    }
  },
  "cells": [
    {
      "cell_type": "markdown",
      "metadata": {
        "id": "view-in-github",
        "colab_type": "text"
      },
      "source": [
        "<a href=\"https://colab.research.google.com/github/YeonKang/Tensorflow-with-Colab/blob/master/Lab7_4_IMDB_example.ipynb\" target=\"_parent\"><img src=\"https://colab.research.google.com/assets/colab-badge.svg\" alt=\"Open In Colab\"/></a>"
      ]
    },
    {
      "cell_type": "code",
      "metadata": {
        "colab": {
          "base_uri": "https://localhost:8080/"
        },
        "id": "e7ArAHiathRJ",
        "outputId": "6f04733f-3ab0-4839-970a-c627b65824c4"
      },
      "source": [
        "import numpy as np\r\n",
        "import tensorflow as tf\r\n",
        "from tensorflow import keras\r\n",
        "\r\n",
        "tf.random.set_seed(777) #for reproducibility\r\n",
        "print(tf.__version__)"
      ],
      "execution_count": null,
      "outputs": [
        {
          "output_type": "stream",
          "text": [
            "2.4.1\n"
          ],
          "name": "stdout"
        }
      ]
    },
    {
      "cell_type": "markdown",
      "metadata": {
        "id": "cJvq7euRt5L-"
      },
      "source": [
        "**Data**"
      ]
    },
    {
      "cell_type": "code",
      "metadata": {
        "colab": {
          "base_uri": "https://localhost:8080/"
        },
        "id": "G14R_lMrt7Cr",
        "outputId": "9f44a2b5-2483-4a42-9439-c7a1cbe9c15b"
      },
      "source": [
        "imdb = keras.datasets.imdb\r\n",
        "(train_data, train_labels), (test_data, test_labels) = imdb.load_data(num_words=10000)\r\n",
        "print(\"Training entries: {}, labels: {}\".format(len(train_data), len(train_labels)))\r\n",
        "print(train_data[0])"
      ],
      "execution_count": null,
      "outputs": [
        {
          "output_type": "stream",
          "text": [
            "Downloading data from https://storage.googleapis.com/tensorflow/tf-keras-datasets/imdb.npz\n",
            "17465344/17464789 [==============================] - 0s 0us/step\n"
          ],
          "name": "stdout"
        },
        {
          "output_type": "stream",
          "text": [
            "<string>:6: VisibleDeprecationWarning: Creating an ndarray from ragged nested sequences (which is a list-or-tuple of lists-or-tuples-or ndarrays with different lengths or shapes) is deprecated. If you meant to do this, you must specify 'dtype=object' when creating the ndarray\n",
            "/usr/local/lib/python3.6/dist-packages/tensorflow/python/keras/datasets/imdb.py:159: VisibleDeprecationWarning: Creating an ndarray from ragged nested sequences (which is a list-or-tuple of lists-or-tuples-or ndarrays with different lengths or shapes) is deprecated. If you meant to do this, you must specify 'dtype=object' when creating the ndarray\n",
            "  x_train, y_train = np.array(xs[:idx]), np.array(labels[:idx])\n"
          ],
          "name": "stderr"
        },
        {
          "output_type": "stream",
          "text": [
            "Training entries: 25000, labels: 25000\n",
            "[1, 14, 22, 16, 43, 530, 973, 1622, 1385, 65, 458, 4468, 66, 3941, 4, 173, 36, 256, 5, 25, 100, 43, 838, 112, 50, 670, 2, 9, 35, 480, 284, 5, 150, 4, 172, 112, 167, 2, 336, 385, 39, 4, 172, 4536, 1111, 17, 546, 38, 13, 447, 4, 192, 50, 16, 6, 147, 2025, 19, 14, 22, 4, 1920, 4613, 469, 4, 22, 71, 87, 12, 16, 43, 530, 38, 76, 15, 13, 1247, 4, 22, 17, 515, 17, 12, 16, 626, 18, 2, 5, 62, 386, 12, 8, 316, 8, 106, 5, 4, 2223, 5244, 16, 480, 66, 3785, 33, 4, 130, 12, 16, 38, 619, 5, 25, 124, 51, 36, 135, 48, 25, 1415, 33, 6, 22, 12, 215, 28, 77, 52, 5, 14, 407, 16, 82, 2, 8, 4, 107, 117, 5952, 15, 256, 4, 2, 7, 3766, 5, 723, 36, 71, 43, 530, 476, 26, 400, 317, 46, 7, 4, 2, 1029, 13, 104, 88, 4, 381, 15, 297, 98, 32, 2071, 56, 26, 141, 6, 194, 7486, 18, 4, 226, 22, 21, 134, 476, 26, 480, 5, 144, 30, 5535, 18, 51, 36, 28, 224, 92, 25, 104, 4, 226, 65, 16, 38, 1334, 88, 12, 16, 283, 5, 16, 4472, 113, 103, 32, 15, 16, 5345, 19, 178, 32]\n"
          ],
          "name": "stdout"
        },
        {
          "output_type": "stream",
          "text": [
            "/usr/local/lib/python3.6/dist-packages/tensorflow/python/keras/datasets/imdb.py:160: VisibleDeprecationWarning: Creating an ndarray from ragged nested sequences (which is a list-or-tuple of lists-or-tuples-or ndarrays with different lengths or shapes) is deprecated. If you meant to do this, you must specify 'dtype=object' when creating the ndarray\n",
            "  x_test, y_test = np.array(xs[idx:]), np.array(labels[idx:])\n"
          ],
          "name": "stderr"
        }
      ]
    },
    {
      "cell_type": "markdown",
      "metadata": {
        "id": "TFXU7Pp3uYMk"
      },
      "source": [
        "***decode data***"
      ]
    },
    {
      "cell_type": "code",
      "metadata": {
        "colab": {
          "base_uri": "https://localhost:8080/",
          "height": 71
        },
        "id": "C3-Pqg4RuIKP",
        "outputId": "2803261e-91ee-4f86-94f3-73b4a17b2e13"
      },
      "source": [
        "#A dictionary mapping words to an integer index\r\n",
        "word_index = imdb.get_word_index()\r\n",
        "\r\n",
        "#The first indices are reserved\r\n",
        "word_index = {k:(v+3) for k,v in word_index.items()}\r\n",
        "word_index[\"<PAD>\"] = 0\r\n",
        "word_index[\"<START>\"] = 1\r\n",
        "word_index[\"<UNK>\"] = 2  #unknown\r\n",
        "word_index[\"<UNUSED>\"] = 3\r\n",
        "\r\n",
        "reverse_word_index = dict([(value, key) for (key, value) in word_index.items()])\r\n",
        "\r\n",
        "def decode_review(text):\r\n",
        "    return ' '.join([reverse_word_index.get(i, '?') for i in text])\r\n",
        "\r\n",
        "decode_review(train_data[4])"
      ],
      "execution_count": null,
      "outputs": [
        {
          "output_type": "execute_result",
          "data": {
            "application/vnd.google.colaboratory.intrinsic+json": {
              "type": "string"
            },
            "text/plain": [
              "\"<START> worst mistake of my life br br i picked this movie up at target for 5 because i figured hey it's sandler i can get some cheap laughs i was wrong completely wrong mid way through the film all three of my friends were asleep and i was still suffering worst plot worst script worst movie i have ever seen i wanted to hit my head up against a wall for an hour then i'd stop and you know why because it felt damn good upon bashing my head in i stuck that damn movie in the <UNK> and watched it burn and that felt better than anything else i've ever done it took american psycho army of darkness and kill bill just to get over that crap i hate you sandler for actually going through with this and ruining a whole day of my life\""
            ]
          },
          "metadata": {
            "tags": []
          },
          "execution_count": 4
        }
      ]
    },
    {
      "cell_type": "code",
      "metadata": {
        "colab": {
          "base_uri": "https://localhost:8080/"
        },
        "id": "FsVanOLwuN2r",
        "outputId": "1a39fc5f-c84a-45f0-9969-00611c8c1960"
      },
      "source": [
        "print(train_labels[4])"
      ],
      "execution_count": null,
      "outputs": [
        {
          "output_type": "stream",
          "text": [
            "0\n"
          ],
          "name": "stdout"
        }
      ]
    },
    {
      "cell_type": "markdown",
      "metadata": {
        "id": "49rgjRPyukr6"
      },
      "source": [
        "**define model**"
      ]
    },
    {
      "cell_type": "code",
      "metadata": {
        "colab": {
          "base_uri": "https://localhost:8080/"
        },
        "id": "fz-j1U7TunSg",
        "outputId": "17193153-1b4b-4f28-a0a5-c5b201db2314"
      },
      "source": [
        "train_data = keras.preprocessing.sequence.pad_sequences(train_data,\r\n",
        "                                                        value=word_index[\"<PAD>\"],\r\n",
        "                                                        padding='post',\r\n",
        "                                                        maxlen=256)\r\n",
        "\r\n",
        "test_data = keras.preprocessing.sequence.pad_sequences(test_data,\r\n",
        "                                                       value=word_index[\"<PAD>\"],\r\n",
        "                                                       padding='post',\r\n",
        "                                                       maxlen=256)\r\n",
        "\r\n",
        "print(len(train_data[0]), len(test_data[0]))\r\n",
        "print(train_data[0])"
      ],
      "execution_count": null,
      "outputs": [
        {
          "output_type": "stream",
          "text": [
            "256 256\n",
            "[   1   14   22   16   43  530  973 1622 1385   65  458 4468   66 3941\n",
            "    4  173   36  256    5   25  100   43  838  112   50  670    2    9\n",
            "   35  480  284    5  150    4  172  112  167    2  336  385   39    4\n",
            "  172 4536 1111   17  546   38   13  447    4  192   50   16    6  147\n",
            " 2025   19   14   22    4 1920 4613  469    4   22   71   87   12   16\n",
            "   43  530   38   76   15   13 1247    4   22   17  515   17   12   16\n",
            "  626   18    2    5   62  386   12    8  316    8  106    5    4 2223\n",
            " 5244   16  480   66 3785   33    4  130   12   16   38  619    5   25\n",
            "  124   51   36  135   48   25 1415   33    6   22   12  215   28   77\n",
            "   52    5   14  407   16   82    2    8    4  107  117 5952   15  256\n",
            "    4    2    7 3766    5  723   36   71   43  530  476   26  400  317\n",
            "   46    7    4    2 1029   13  104   88    4  381   15  297   98   32\n",
            " 2071   56   26  141    6  194 7486   18    4  226   22   21  134  476\n",
            "   26  480    5  144   30 5535   18   51   36   28  224   92   25  104\n",
            "    4  226   65   16   38 1334   88   12   16  283    5   16 4472  113\n",
            "  103   32   15   16 5345   19  178   32    0    0    0    0    0    0\n",
            "    0    0    0    0    0    0    0    0    0    0    0    0    0    0\n",
            "    0    0    0    0    0    0    0    0    0    0    0    0    0    0\n",
            "    0    0    0    0]\n"
          ],
          "name": "stdout"
        }
      ]
    },
    {
      "cell_type": "code",
      "metadata": {
        "colab": {
          "base_uri": "https://localhost:8080/"
        },
        "id": "CqWQ3i8YuqAa",
        "outputId": "ff8b7ec7-7d75-48e9-fc91-cb8da418644d"
      },
      "source": [
        "#input shape is the vocabulary count used for the movie reviews (10,000 words)\r\n",
        "vocab_size = 10000\r\n",
        "\r\n",
        "model = keras.Sequential()\r\n",
        "model.add(keras.layers.Embedding(vocab_size, 16))\r\n",
        "model.add(keras.layers.GlobalAveragePooling1D())\r\n",
        "model.add(keras.layers.Dense(16, activation=tf.nn.relu))\r\n",
        "model.add(keras.layers.Dense(1, activation=tf.nn.sigmoid))\r\n",
        "\r\n",
        "model.summary()"
      ],
      "execution_count": null,
      "outputs": [
        {
          "output_type": "stream",
          "text": [
            "Model: \"sequential\"\n",
            "_________________________________________________________________\n",
            "Layer (type)                 Output Shape              Param #   \n",
            "=================================================================\n",
            "embedding (Embedding)        (None, None, 16)          160000    \n",
            "_________________________________________________________________\n",
            "global_average_pooling1d (Gl (None, 16)                0         \n",
            "_________________________________________________________________\n",
            "dense (Dense)                (None, 16)                272       \n",
            "_________________________________________________________________\n",
            "dense_1 (Dense)              (None, 1)                 17        \n",
            "=================================================================\n",
            "Total params: 160,289\n",
            "Trainable params: 160,289\n",
            "Non-trainable params: 0\n",
            "_________________________________________________________________\n"
          ],
          "name": "stdout"
        }
      ]
    },
    {
      "cell_type": "code",
      "metadata": {
        "id": "tBO3wJ4zu5WU"
      },
      "source": [
        "model.compile(optimizer='adam',\r\n",
        "              loss='binary_crossentropy',\r\n",
        "              metrics=['accuracy'])"
      ],
      "execution_count": null,
      "outputs": []
    },
    {
      "cell_type": "markdown",
      "metadata": {
        "id": "k2DeAfWmuziK"
      },
      "source": [
        "**train model**"
      ]
    },
    {
      "cell_type": "code",
      "metadata": {
        "colab": {
          "base_uri": "https://localhost:8080/"
        },
        "id": "SW_zr8Isu1XS",
        "outputId": "d1b916f4-66be-4ceb-96ea-6e5a6627d16d"
      },
      "source": [
        "x_val = train_data[:10000]\r\n",
        "partial_x_train = train_data[10000:]\r\n",
        "\r\n",
        "y_val = train_labels[:10000]\r\n",
        "partial_y_train = train_labels[10000:]\r\n",
        "\r\n",
        "history = model.fit(partial_x_train,\r\n",
        "                    partial_y_train,\r\n",
        "                    epochs=40,\r\n",
        "                    batch_size=512,\r\n",
        "                    validation_data=(x_val, y_val),\r\n",
        "                    verbose=1)"
      ],
      "execution_count": null,
      "outputs": [
        {
          "output_type": "stream",
          "text": [
            "Epoch 1/40\n",
            "30/30 [==============================] - 2s 33ms/step - loss: 0.6928 - accuracy: 0.5008 - val_loss: 0.6906 - val_accuracy: 0.6589\n",
            "Epoch 2/40\n",
            "30/30 [==============================] - 1s 24ms/step - loss: 0.6889 - accuracy: 0.7048 - val_loss: 0.6835 - val_accuracy: 0.7414\n",
            "Epoch 3/40\n",
            "30/30 [==============================] - 1s 20ms/step - loss: 0.6795 - accuracy: 0.7546 - val_loss: 0.6693 - val_accuracy: 0.7444\n",
            "Epoch 4/40\n",
            "30/30 [==============================] - 1s 19ms/step - loss: 0.6618 - accuracy: 0.7722 - val_loss: 0.6461 - val_accuracy: 0.7646\n",
            "Epoch 5/40\n",
            "30/30 [==============================] - 1s 19ms/step - loss: 0.6329 - accuracy: 0.7828 - val_loss: 0.6132 - val_accuracy: 0.7778\n",
            "Epoch 6/40\n",
            "30/30 [==============================] - 1s 19ms/step - loss: 0.5962 - accuracy: 0.7970 - val_loss: 0.5741 - val_accuracy: 0.7979\n",
            "Epoch 7/40\n",
            "30/30 [==============================] - 1s 20ms/step - loss: 0.5495 - accuracy: 0.8162 - val_loss: 0.5312 - val_accuracy: 0.8146\n",
            "Epoch 8/40\n",
            "30/30 [==============================] - 1s 19ms/step - loss: 0.5014 - accuracy: 0.8367 - val_loss: 0.4910 - val_accuracy: 0.8277\n",
            "Epoch 9/40\n",
            "30/30 [==============================] - 1s 20ms/step - loss: 0.4588 - accuracy: 0.8490 - val_loss: 0.4512 - val_accuracy: 0.8405\n",
            "Epoch 10/40\n",
            "30/30 [==============================] - 1s 19ms/step - loss: 0.4146 - accuracy: 0.8691 - val_loss: 0.4191 - val_accuracy: 0.8479\n",
            "Epoch 11/40\n",
            "30/30 [==============================] - 1s 19ms/step - loss: 0.3853 - accuracy: 0.8705 - val_loss: 0.3924 - val_accuracy: 0.8562\n",
            "Epoch 12/40\n",
            "30/30 [==============================] - 1s 20ms/step - loss: 0.3481 - accuracy: 0.8866 - val_loss: 0.3711 - val_accuracy: 0.8621\n",
            "Epoch 13/40\n",
            "30/30 [==============================] - 1s 19ms/step - loss: 0.3248 - accuracy: 0.8927 - val_loss: 0.3548 - val_accuracy: 0.8660\n",
            "Epoch 14/40\n",
            "30/30 [==============================] - 1s 19ms/step - loss: 0.2993 - accuracy: 0.9010 - val_loss: 0.3406 - val_accuracy: 0.8706\n",
            "Epoch 15/40\n",
            "30/30 [==============================] - 1s 19ms/step - loss: 0.2845 - accuracy: 0.9033 - val_loss: 0.3292 - val_accuracy: 0.8719\n",
            "Epoch 16/40\n",
            "30/30 [==============================] - 1s 18ms/step - loss: 0.2701 - accuracy: 0.9060 - val_loss: 0.3197 - val_accuracy: 0.8757\n",
            "Epoch 17/40\n",
            "30/30 [==============================] - 1s 19ms/step - loss: 0.2567 - accuracy: 0.9137 - val_loss: 0.3124 - val_accuracy: 0.8777\n",
            "Epoch 18/40\n",
            "30/30 [==============================] - 1s 19ms/step - loss: 0.2425 - accuracy: 0.9182 - val_loss: 0.3060 - val_accuracy: 0.8792\n",
            "Epoch 19/40\n",
            "30/30 [==============================] - 1s 19ms/step - loss: 0.2293 - accuracy: 0.9200 - val_loss: 0.3010 - val_accuracy: 0.8802\n",
            "Epoch 20/40\n",
            "30/30 [==============================] - 1s 19ms/step - loss: 0.2178 - accuracy: 0.9237 - val_loss: 0.2971 - val_accuracy: 0.8822\n",
            "Epoch 21/40\n",
            "30/30 [==============================] - 1s 19ms/step - loss: 0.2148 - accuracy: 0.9267 - val_loss: 0.2941 - val_accuracy: 0.8826\n",
            "Epoch 22/40\n",
            "30/30 [==============================] - 1s 19ms/step - loss: 0.2026 - accuracy: 0.9325 - val_loss: 0.2905 - val_accuracy: 0.8835\n",
            "Epoch 23/40\n",
            "30/30 [==============================] - 1s 19ms/step - loss: 0.1911 - accuracy: 0.9338 - val_loss: 0.2885 - val_accuracy: 0.8839\n",
            "Epoch 24/40\n",
            "30/30 [==============================] - 1s 19ms/step - loss: 0.1853 - accuracy: 0.9372 - val_loss: 0.2869 - val_accuracy: 0.8843\n",
            "Epoch 25/40\n",
            "30/30 [==============================] - 1s 19ms/step - loss: 0.1779 - accuracy: 0.9416 - val_loss: 0.2861 - val_accuracy: 0.8843\n",
            "Epoch 26/40\n",
            "30/30 [==============================] - 1s 19ms/step - loss: 0.1647 - accuracy: 0.9493 - val_loss: 0.2855 - val_accuracy: 0.8846\n",
            "Epoch 27/40\n",
            "30/30 [==============================] - 1s 19ms/step - loss: 0.1595 - accuracy: 0.9498 - val_loss: 0.2853 - val_accuracy: 0.8855\n",
            "Epoch 28/40\n",
            "30/30 [==============================] - 1s 19ms/step - loss: 0.1550 - accuracy: 0.9515 - val_loss: 0.2852 - val_accuracy: 0.8851\n",
            "Epoch 29/40\n",
            "30/30 [==============================] - 1s 19ms/step - loss: 0.1513 - accuracy: 0.9544 - val_loss: 0.2855 - val_accuracy: 0.8860\n",
            "Epoch 30/40\n",
            "30/30 [==============================] - 1s 19ms/step - loss: 0.1439 - accuracy: 0.9572 - val_loss: 0.2868 - val_accuracy: 0.8853\n",
            "Epoch 31/40\n",
            "30/30 [==============================] - 1s 19ms/step - loss: 0.1370 - accuracy: 0.9602 - val_loss: 0.2872 - val_accuracy: 0.8856\n",
            "Epoch 32/40\n",
            "30/30 [==============================] - 1s 19ms/step - loss: 0.1310 - accuracy: 0.9611 - val_loss: 0.2888 - val_accuracy: 0.8863\n",
            "Epoch 33/40\n",
            "30/30 [==============================] - 1s 19ms/step - loss: 0.1325 - accuracy: 0.9625 - val_loss: 0.2900 - val_accuracy: 0.8861\n",
            "Epoch 34/40\n",
            "30/30 [==============================] - 1s 20ms/step - loss: 0.1247 - accuracy: 0.9643 - val_loss: 0.2922 - val_accuracy: 0.8854\n",
            "Epoch 35/40\n",
            "30/30 [==============================] - 1s 19ms/step - loss: 0.1196 - accuracy: 0.9658 - val_loss: 0.2945 - val_accuracy: 0.8831\n",
            "Epoch 36/40\n",
            "30/30 [==============================] - 1s 19ms/step - loss: 0.1162 - accuracy: 0.9681 - val_loss: 0.2963 - val_accuracy: 0.8844\n",
            "Epoch 37/40\n",
            "30/30 [==============================] - 1s 20ms/step - loss: 0.1045 - accuracy: 0.9706 - val_loss: 0.2985 - val_accuracy: 0.8843\n",
            "Epoch 38/40\n",
            "30/30 [==============================] - 1s 19ms/step - loss: 0.1031 - accuracy: 0.9711 - val_loss: 0.3007 - val_accuracy: 0.8839\n",
            "Epoch 39/40\n",
            "30/30 [==============================] - 1s 19ms/step - loss: 0.1041 - accuracy: 0.9714 - val_loss: 0.3045 - val_accuracy: 0.8835\n",
            "Epoch 40/40\n",
            "30/30 [==============================] - 1s 19ms/step - loss: 0.0999 - accuracy: 0.9728 - val_loss: 0.3063 - val_accuracy: 0.8826\n"
          ],
          "name": "stdout"
        }
      ]
    },
    {
      "cell_type": "markdown",
      "metadata": {
        "id": "SbXzVbSOvGNp"
      },
      "source": [
        "**accuracy**"
      ]
    },
    {
      "cell_type": "code",
      "metadata": {
        "id": "QuKnQ6MlvIED",
        "colab": {
          "base_uri": "https://localhost:8080/"
        },
        "outputId": "51cf3cab-f3cc-47ea-bf1a-1d35528b7044"
      },
      "source": [
        "results = model.evaluate(test_data, test_labels)\r\n",
        "print(results)"
      ],
      "execution_count": null,
      "outputs": [
        {
          "output_type": "stream",
          "text": [
            "782/782 [==============================] - 1s 2ms/step - loss: 0.3261 - accuracy: 0.8730\n",
            "[0.3261283040046692, 0.8729599714279175]\n"
          ],
          "name": "stdout"
        }
      ]
    }
  ]
}