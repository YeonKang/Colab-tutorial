{
  "nbformat": 4,
  "nbformat_minor": 0,
  "metadata": {
    "colab": {
      "name": "Lab6_Softmax_Classification.ipynb",
      "provenance": [],
      "authorship_tag": "ABX9TyPYKsHZy/myV/Etel5i2ked",
      "include_colab_link": true
    },
    "kernelspec": {
      "name": "python3",
      "display_name": "Python 3"
    }
  },
  "cells": [
    {
      "cell_type": "markdown",
      "metadata": {
        "id": "view-in-github",
        "colab_type": "text"
      },
      "source": [
        "<a href=\"https://colab.research.google.com/github/YeonKang/Tensorflow-with-Colab/blob/master/Lab6_Softmax_Classification.ipynb\" target=\"_parent\"><img src=\"https://colab.research.google.com/assets/colab-badge.svg\" alt=\"Open In Colab\"/></a>"
      ]
    },
    {
      "cell_type": "code",
      "metadata": {
        "colab": {
          "base_uri": "https://localhost:8080/"
        },
        "id": "An2ockq2BADF",
        "outputId": "d2db4dc1-4cdd-47f3-c30d-0d56eca157e1"
      },
      "source": [
        "import tensorflow as tf\r\n",
        "import numpy as np\r\n",
        "\r\n",
        "print(tf.__version__)\r\n",
        "\r\n",
        "tf.random.set_seed(777)  #for reproducibility"
      ],
      "execution_count": 1,
      "outputs": [
        {
          "output_type": "stream",
          "text": [
            "2.4.1\n"
          ],
          "name": "stdout"
        }
      ]
    },
    {
      "cell_type": "markdown",
      "metadata": {
        "id": "uH2we7qPBH-S"
      },
      "source": [
        "**Data**"
      ]
    },
    {
      "cell_type": "code",
      "metadata": {
        "id": "iaNRJne8BLqT"
      },
      "source": [
        "x_data = [[1, 2, 1, 1],\r\n",
        "          [2, 1, 3, 2],\r\n",
        "          [3, 1, 3, 4],\r\n",
        "          [4, 1, 5, 5],\r\n",
        "          [1, 7, 5, 5],\r\n",
        "          [1, 2, 5, 6],\r\n",
        "          [1, 6, 6, 6],\r\n",
        "          [1, 7, 7, 7]]\r\n",
        "y_data = [[0, 0, 1],\r\n",
        "          [0, 0, 1],\r\n",
        "          [0, 0, 1],\r\n",
        "          [0, 1, 0],\r\n",
        "          [0, 1, 0],\r\n",
        "          [0, 1, 0],\r\n",
        "          [1, 0, 0],\r\n",
        "          [1, 0, 0]]\r\n",
        "\r\n",
        "#convert into numpy and float format\r\n",
        "x_data = np.asarray(x_data, dtype=np.float32)\r\n",
        "y_data = np.asarray(y_data, dtype=np.float32)"
      ],
      "execution_count": 2,
      "outputs": []
    },
    {
      "cell_type": "code",
      "metadata": {
        "colab": {
          "base_uri": "https://localhost:8080/"
        },
        "id": "djzPeShuBSfV",
        "outputId": "b2c94930-6e0f-4cb3-eeb3-7d3112465780"
      },
      "source": [
        "nb_classes = 3\r\n",
        "\r\n",
        "print(x_data.shape)\r\n",
        "print(y_data.shape)"
      ],
      "execution_count": 3,
      "outputs": [
        {
          "output_type": "stream",
          "text": [
            "(8, 4)\n",
            "(8, 3)\n"
          ],
          "name": "stdout"
        }
      ]
    },
    {
      "cell_type": "markdown",
      "metadata": {
        "id": "xaBQYhwoBW3b"
      },
      "source": [
        "**weight & bias**"
      ]
    },
    {
      "cell_type": "code",
      "metadata": {
        "colab": {
          "base_uri": "https://localhost:8080/"
        },
        "id": "QQ2qozhyBVnZ",
        "outputId": "39b993f2-1fd8-496f-80b8-74e0b04622bc"
      },
      "source": [
        "W = tf.Variable(tf.random.normal((4, nb_classes)), name='weight')\r\n",
        "b = tf.Variable(tf.random.normal((nb_classes,)), name='bias')\r\n",
        "variables = [W, b]\r\n",
        "\r\n",
        "print(W,b)"
      ],
      "execution_count": 4,
      "outputs": [
        {
          "output_type": "stream",
          "text": [
            "<tf.Variable 'weight:0' shape=(4, 3) dtype=float32, numpy=\n",
            "array([[ 0.7706481 ,  0.37335402, -0.05576323],\n",
            "       [ 0.00358377, -0.5898363 ,  1.5702795 ],\n",
            "       [ 0.2460895 , -0.09918973,  1.4418385 ],\n",
            "       [ 0.3200988 ,  0.526784  , -0.7703731 ]], dtype=float32)> <tf.Variable 'bias:0' shape=(3,) dtype=float32, numpy=array([-1.3080608 , -0.13253094,  0.5513761 ], dtype=float32)>\n"
          ],
          "name": "stdout"
        }
      ]
    },
    {
      "cell_type": "code",
      "metadata": {
        "colab": {
          "base_uri": "https://localhost:8080/"
        },
        "id": "jhJeLVDwBbaR",
        "outputId": "738f0349-23f5-41cb-d9bc-b932fed1973d"
      },
      "source": [
        "def hypothesis(X):\r\n",
        "    return tf.nn.softmax(tf.matmul(X, W) + b)\r\n",
        "\r\n",
        "print(hypothesis(x_data))"
      ],
      "execution_count": 5,
      "outputs": [
        {
          "output_type": "stream",
          "text": [
            "tf.Tensor(\n",
            "[[1.3657196e-02 7.9016238e-03 9.7844124e-01]\n",
            " [3.9259776e-02 1.7034741e-02 9.4370544e-01]\n",
            " [3.8038525e-01 1.6772316e-01 4.5189157e-01]\n",
            " [3.2339048e-01 5.9075940e-02 6.1753362e-01]\n",
            " [3.6299741e-06 6.2072729e-08 9.9999630e-01]\n",
            " [2.6252020e-02 1.0727962e-02 9.6301997e-01]\n",
            " [1.5652511e-05 4.2180278e-07 9.9998391e-01]\n",
            " [2.9407690e-06 3.8113328e-08 9.9999702e-01]], shape=(8, 3), dtype=float32)\n"
          ],
          "name": "stdout"
        }
      ]
    },
    {
      "cell_type": "code",
      "metadata": {
        "colab": {
          "base_uri": "https://localhost:8080/"
        },
        "id": "YoKna_kyBdMm",
        "outputId": "901bfaf0-c67c-447e-9892-f276c177653c"
      },
      "source": [
        "sample_db = [[8,2,1,4]]\r\n",
        "sample_db = np.asarray(sample_db, dtype=np.float32)\r\n",
        "\r\n",
        "print(hypothesis(sample_db))"
      ],
      "execution_count": 6,
      "outputs": [
        {
          "output_type": "stream",
          "text": [
            "tf.Tensor([[0.9302204  0.06200533 0.00777428]], shape=(1, 3), dtype=float32)\n"
          ],
          "name": "stdout"
        }
      ]
    },
    {
      "cell_type": "code",
      "metadata": {
        "colab": {
          "base_uri": "https://localhost:8080/"
        },
        "id": "Fs21VXMcBfFz",
        "outputId": "7f2d0606-ec2f-486e-a694-57aca021cd27"
      },
      "source": [
        "def cost_fn(X, Y):\r\n",
        "    logits = hypothesis(X)\r\n",
        "    cost = -tf.reduce_sum(Y * tf.math.log(logits), axis=1)\r\n",
        "    cost_mean = tf.reduce_mean(cost)\r\n",
        "    \r\n",
        "    return cost_mean\r\n",
        "\r\n",
        "print(cost_fn(x_data, y_data))"
      ],
      "execution_count": 7,
      "outputs": [
        {
          "output_type": "stream",
          "text": [
            "tf.Tensor(6.07932, shape=(), dtype=float32)\n"
          ],
          "name": "stdout"
        }
      ]
    },
    {
      "cell_type": "code",
      "metadata": {
        "colab": {
          "base_uri": "https://localhost:8080/"
        },
        "id": "4NE6xx6IBgsd",
        "outputId": "c65f5ad0-6032-48f0-cc50-0e31c4ec5f58"
      },
      "source": [
        "x = tf.constant(3.0)\r\n",
        "with tf.GradientTape() as g:\r\n",
        "    g.watch(x)\r\n",
        "    y = x * x\r\n",
        "dy_dx = g.gradient(y, x)\r\n",
        "print(dy_dx)"
      ],
      "execution_count": 8,
      "outputs": [
        {
          "output_type": "stream",
          "text": [
            "tf.Tensor(6.0, shape=(), dtype=float32)\n"
          ],
          "name": "stdout"
        }
      ]
    }
  ]
}