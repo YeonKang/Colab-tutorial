{
  "nbformat": 4,
  "nbformat_minor": 0,
  "metadata": {
    "colab": {
      "name": "Colab basic command.ipynb",
      "provenance": [],
      "authorship_tag": "ABX9TyNxMMUNyjcWanYPTwrAgwzR"
    },
    "kernelspec": {
      "name": "python3",
      "display_name": "Python 3"
    }
  },
  "cells": [
    {
      "cell_type": "markdown",
      "metadata": {
        "id": "gasmh0UGDaYX",
        "colab_type": "text"
      },
      "source": [
        "OS version"
      ]
    },
    {
      "cell_type": "code",
      "metadata": {
        "id": "F-IPPocaDWyI",
        "colab_type": "code",
        "colab": {}
      },
      "source": [
        "!cat /etc/issue.net"
      ],
      "execution_count": null,
      "outputs": []
    },
    {
      "cell_type": "markdown",
      "metadata": {
        "id": "v1KVnm0SsTf_",
        "colab_type": "text"
      },
      "source": [
        "CPU spec"
      ]
    },
    {
      "cell_type": "code",
      "metadata": {
        "id": "f5OSs8-TsVzc",
        "colab_type": "code",
        "colab": {}
      },
      "source": [
        "!cat /proc/cpuinfo"
      ],
      "execution_count": null,
      "outputs": []
    },
    {
      "cell_type": "markdown",
      "metadata": {
        "id": "A95Fuu_jsZWH",
        "colab_type": "text"
      },
      "source": [
        "Memory spec"
      ]
    },
    {
      "cell_type": "code",
      "metadata": {
        "id": "nzpPjvQNscDV",
        "colab_type": "code",
        "colab": {}
      },
      "source": [
        "!cat /proc/meminfo"
      ],
      "execution_count": null,
      "outputs": []
    },
    {
      "cell_type": "markdown",
      "metadata": {
        "id": "D4UR5OqLsfb4",
        "colab_type": "text"
      },
      "source": [
        "Disk spec"
      ]
    },
    {
      "cell_type": "code",
      "metadata": {
        "id": "GcF12fzZshkL",
        "colab_type": "code",
        "colab": {}
      },
      "source": [
        "!df -h"
      ],
      "execution_count": null,
      "outputs": []
    },
    {
      "cell_type": "markdown",
      "metadata": {
        "id": "l8F2xALJsjb-",
        "colab_type": "text"
      },
      "source": [
        "GPU spec"
      ]
    },
    {
      "cell_type": "code",
      "metadata": {
        "id": "AJcIAD9Xslhk",
        "colab_type": "code",
        "colab": {}
      },
      "source": [
        "!nvidia-smi"
      ],
      "execution_count": null,
      "outputs": []
    },
    {
      "cell_type": "markdown",
      "metadata": {
        "id": "U_IzAGlEsz_E",
        "colab_type": "text"
      },
      "source": [
        "Use Google Drive with Colab"
      ]
    },
    {
      "cell_type": "code",
      "metadata": {
        "id": "njJXTyA6s5jN",
        "colab_type": "code",
        "colab": {}
      },
      "source": [
        "from google.colab import auth\n",
        "auth.authenticate_user()\n",
        "\n",
        "from google.colab import drive\n",
        "drive.mount('/content/gdrive')"
      ],
      "execution_count": null,
      "outputs": []
    },
    {
      "cell_type": "markdown",
      "metadata": {
        "id": "dksNn_-Us-HQ",
        "colab_type": "text"
      },
      "source": [
        "Mount Google Drive folder into Colab"
      ]
    },
    {
      "cell_type": "code",
      "metadata": {
        "id": "nFLy_gd7tKti",
        "colab_type": "code",
        "colab": {}
      },
      "source": [
        "!cd gdrive/data; ls-al;"
      ],
      "execution_count": null,
      "outputs": []
    }
  ]
}