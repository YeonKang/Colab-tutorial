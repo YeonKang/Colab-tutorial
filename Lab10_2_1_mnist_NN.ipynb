{
  "nbformat": 4,
  "nbformat_minor": 0,
  "metadata": {
    "colab": {
      "name": "Lab10_2_1_mnist_NN.ipynb",
      "provenance": [],
      "authorship_tag": "ABX9TyOSVU6TbF5BqCW2J8h7xxP2",
      "include_colab_link": true
    },
    "kernelspec": {
      "name": "python3",
      "display_name": "Python 3"
    }
  },
  "cells": [
    {
      "cell_type": "markdown",
      "metadata": {
        "id": "view-in-github",
        "colab_type": "text"
      },
      "source": [
        "<a href=\"https://colab.research.google.com/github/YeonKang/Tensorflow-with-Colab/blob/master/Lab10_2_1_mnist_NN.ipynb\" target=\"_parent\"><img src=\"https://colab.research.google.com/assets/colab-badge.svg\" alt=\"Open In Colab\"/></a>"
      ]
    },
    {
      "cell_type": "code",
      "metadata": {
        "colab": {
          "base_uri": "https://localhost:8080/"
        },
        "id": "uF4GR18K5nc7",
        "outputId": "fde5b8c9-dddc-414a-9f6a-1bd0f6188592"
      },
      "source": [
        "import tensorflow as tf\r\n",
        "import numpy as np\r\n",
        "from tensorflow.keras.utils import to_categorical\r\n",
        "from tensorflow.keras.datasets import mnist\r\n",
        "from time import time\r\n",
        "import os\r\n",
        "print(tf.__version__)"
      ],
      "execution_count": null,
      "outputs": [
        {
          "output_type": "stream",
          "text": [
            "2.4.1\n"
          ],
          "name": "stdout"
        }
      ]
    },
    {
      "cell_type": "markdown",
      "metadata": {
        "id": "n2WhHPb35xff"
      },
      "source": [
        "**Checkpoint function**"
      ]
    },
    {
      "cell_type": "code",
      "metadata": {
        "id": "vFIob6nP5xUI"
      },
      "source": [
        "def load(model, checkpoint_dir):\r\n",
        "    print(\" [*] Reading checkpoints...\")\r\n",
        "\r\n",
        "    ckpt = tf.train.get_checkpoint_state(checkpoint_dir)\r\n",
        "    if ckpt :\r\n",
        "        ckpt_name = os.path.basename(ckpt.model_checkpoint_path)\r\n",
        "        checkpoint = tf.train.Checkpoint(dnn=model)\r\n",
        "        checkpoint.restore(save_path=os.path.join(checkpoint_dir, ckpt_name))\r\n",
        "        counter = int(ckpt_name.split('-')[1])\r\n",
        "        print(\" [*] Success to read {}\".format(ckpt_name))\r\n",
        "        return True, counter\r\n",
        "    else:\r\n",
        "        print(\" [*] Failed to find a checkpoint\")\r\n",
        "        return False, 0\r\n",
        "\r\n",
        "def check_folder(dir):\r\n",
        "    if not os.path.exists(dir):\r\n",
        "        os.makedirs(dir)\r\n",
        "    return dir"
      ],
      "execution_count": null,
      "outputs": []
    },
    {
      "cell_type": "markdown",
      "metadata": {
        "id": "ZHYR8b-w52qU"
      },
      "source": [
        "**Data load & pre-processing function**"
      ]
    },
    {
      "cell_type": "code",
      "metadata": {
        "id": "kQa1mz4i52e4"
      },
      "source": [
        "def load_mnist() :\r\n",
        "    (train_data, train_labels), (test_data, test_labels) = mnist.load_data()\r\n",
        "    train_data = np.expand_dims(train_data, axis=-1) #[N, 28, 28] -> [N, 28, 28, 1]\r\n",
        "    test_data = np.expand_dims(test_data, axis=-1) #[N, 28, 28] -> [N, 28, 28, 1]\r\n",
        "\r\n",
        "    train_data, test_data = normalize(train_data, test_data)\r\n",
        "\r\n",
        "    train_labels = to_categorical(train_labels, 10) #[N,] -> [N, 10]\r\n",
        "    test_labels = to_categorical(test_labels, 10) #[N,] -> [N, 10]\r\n",
        "\r\n",
        "    return train_data, train_labels, test_data, test_labels\r\n",
        "\r\n",
        "def normalize(train_data, test_data):\r\n",
        "    train_data = train_data.astype(np.float32) / 255.0\r\n",
        "    test_data = test_data.astype(np.float32) / 255.0\r\n",
        "\r\n",
        "    return train_data, test_data"
      ],
      "execution_count": null,
      "outputs": []
    }
  ]
}