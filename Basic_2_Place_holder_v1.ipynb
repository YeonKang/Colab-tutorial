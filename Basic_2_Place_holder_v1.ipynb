{
  "nbformat": 4,
  "nbformat_minor": 0,
  "metadata": {
    "colab": {
      "name": "Basic - 2. Place holder_v1.ipynb",
      "provenance": [],
      "authorship_tag": "ABX9TyOsJrR5/ZSU7wDek1q6Vhdw"
    },
    "kernelspec": {
      "name": "python3",
      "display_name": "Python 3"
    }
  },
  "cells": [
    {
      "cell_type": "code",
      "metadata": {
        "id": "obux884DEISB",
        "colab_type": "code",
        "colab": {
          "base_uri": "https://localhost:8080/",
          "height": 53
        },
        "outputId": "55b91234-f041-4040-9cc2-368a7e6ee6df"
      },
      "source": [
        "#import tensorflow version 1.x\n",
        "import tensorflow.compat.v1 as tf\n",
        "tf.disable_eager_execution()\n",
        "\n",
        "#if you want to use tensorflow version 2, use below\n",
        "#import tensorflow as tf\n",
        "\n",
        "#define placeholder node and add node\n",
        "#tf.placeholder(dtype, shape, name)\n",
        "a = tf.placeholder(tf.float32)\n",
        "b = tf.placeholder(tf.float32)\n",
        "#define as tf.add(a,b)\n",
        "adder_node = a + b\n",
        "\n",
        "#open session and run graph\n",
        "#feed_dict = Feed Dictionary\n",
        "sess = tf.Session()\n",
        "print(sess.run(adder_node, feed_dict={a:3, b:4.5}))\n",
        "print(sess.run(adder_node, feed_dict={a:[1,3],b:[2,4]}))"
      ],
      "execution_count": null,
      "outputs": [
        {
          "output_type": "stream",
          "text": [
            "7.5\n",
            "[3. 7.]\n"
          ],
          "name": "stdout"
        }
      ]
    },
    {
      "cell_type": "code",
      "metadata": {
        "id": "7_mgzFerPYeN",
        "colab_type": "code",
        "colab": {
          "base_uri": "https://localhost:8080/",
          "height": 35
        },
        "outputId": "d92d67ca-c068-46df-ad1a-9ed13fc9b3fc"
      },
      "source": [
        "#add additional node\n",
        "#define as tf.multiply(adder_node,3)\n",
        "add_and_triple = adder_node*3\n",
        "print(sess.run(add_and_triple,feed_dict={a:3,b:4.5}))"
      ],
      "execution_count": null,
      "outputs": [
        {
          "output_type": "stream",
          "text": [
            "22.5\n"
          ],
          "name": "stdout"
        }
      ]
    },
    {
      "cell_type": "code",
      "metadata": {
        "id": "obSo86sPSSGu",
        "colab_type": "code",
        "colab": {}
      },
      "source": [
        "#close session\n",
        "sess.close()"
      ],
      "execution_count": null,
      "outputs": []
    }
  ]
}