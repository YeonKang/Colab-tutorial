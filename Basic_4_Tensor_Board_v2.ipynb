{
  "nbformat": 4,
  "nbformat_minor": 0,
  "metadata": {
    "colab": {
      "name": "Basic_4_Tensor_Board_v2.ipynb",
      "provenance": [],
      "collapsed_sections": [],
      "authorship_tag": "ABX9TyP7G+0Z7AgFBqkVxUlLUhdk"
    },
    "kernelspec": {
      "name": "python3",
      "display_name": "Python 3"
    }
  },
  "cells": [
    {
      "cell_type": "code",
      "metadata": {
        "id": "oaCwIONgRMXQ",
        "colab_type": "code",
        "colab": {
          "base_uri": "https://localhost:8080/",
          "height": 109
        },
        "outputId": "ff3751fd-b6ce-4df7-b35f-195b161c0bf8"
      },
      "source": [
        "import tensorflow as tf\n",
        "\n",
        "#define W and b and set as normal random variable\n",
        "W = tf.Variable(tf.random.normal(shape=[1]))\n",
        "b = tf.Variable(tf.random.normal(shape=[1]))\n",
        "\n",
        "#define linear regression model W*x + b\n",
        "@tf.function\n",
        "def linear_model(x):\n",
        "  return W*x + b\n",
        "\n",
        "#define loss function\n",
        "@tf.function\n",
        "def mse_loss(y_pred, y):\n",
        "  return tf.reduce_mean(tf.square(y_pred - y))\n",
        "\n",
        "#define gradient descent optimizer\n",
        "optimizer = tf.optimizers.SGD(0.01)\n",
        "\n",
        "#set directory to save tensorboard summary information\n",
        "summary_writer = tf.summary.create_file_writer('./tensorboard_log')\n",
        "\n",
        "#define optimazer function\n",
        "@tf.function\n",
        "def train_step(x, y):\n",
        "  with tf.GradientTape() as tape:\n",
        "    y_pred = linear_model(x)\n",
        "    loss = mse_loss(y_pred, y)\n",
        "  with summary_writer.as_default(): #summary loss values\n",
        "    tf.summary.scalar('loss', loss, step=optimizer.iterations)\n",
        "  gradients = tape.gradient(loss, [W, b])\n",
        "  optimizer.apply_gradients(zip(gradients, [W, b]))\n",
        "\n",
        "#set training value\n",
        "x_train = [1, 2, 3, 4]\n",
        "y_train = [2, 4, 6, 8]\n",
        "\n",
        "#do linear regression 1000 times\n",
        "for i in range(1000):\n",
        "  train_step(x_train, y_train)\n",
        "\n",
        "#set x values for test\n",
        "x_test = [3.5, 5, 5.5, 6]\n",
        "\n",
        "print(linear_model(x_test).numpy())"
      ],
      "execution_count": 1,
      "outputs": [
        {
          "output_type": "stream",
          "text": [
            "WARNING:tensorflow:From /usr/local/lib/python3.6/dist-packages/tensorflow/python/ops/resource_variable_ops.py:1817: calling BaseResourceVariable.__init__ (from tensorflow.python.ops.resource_variable_ops) with constraint is deprecated and will be removed in a future version.\n",
            "Instructions for updating:\n",
            "If using Keras pass *_constraint arguments to layers.\n",
            "[ 6.9899573  9.96305   10.954082  11.945112 ]\n"
          ],
          "name": "stdout"
        }
      ]
    }
  ]
}