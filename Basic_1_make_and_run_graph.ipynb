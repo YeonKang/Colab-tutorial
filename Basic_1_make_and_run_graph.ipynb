{
  "nbformat": 4,
  "nbformat_minor": 0,
  "metadata": {
    "colab": {
      "name": "Basic - 1. make and run graph.ipynb",
      "provenance": [],
      "authorship_tag": "ABX9TyNEAYEe4YGWPBO+B85r72BB"
    },
    "kernelspec": {
      "name": "python3",
      "display_name": "Python 3"
    }
  },
  "cells": [
    {
      "cell_type": "code",
      "metadata": {
        "id": "d11EbOFE0zOQ",
        "colab_type": "code",
        "colab": {
          "base_uri": "https://localhost:8080/",
          "height": 53
        },
        "outputId": "a4170965-0d12-45df-8f6d-4803bebd351f"
      },
      "source": [
        "#import tensorflow version 1.x\n",
        "import tensorflow.compat.v1 as tf\n",
        "tf.disable_eager_execution()\n",
        "\n",
        "#if you want to use tensorflow version 2, use below\n",
        "#import tensorflow as tf\n",
        "\n",
        "#define node\n",
        "node1 = tf.constant(3.0, dtype=tf.float32)\n",
        "node2 = tf.constant(4.0) #dytpe=tf.float32 same as node1\n",
        "print(node1, node2)\n",
        "\n",
        "#open session and run graph\n",
        "sess = tf.Session()\n",
        "print(sess.run([node1, node2]))"
      ],
      "execution_count": 14,
      "outputs": [
        {
          "output_type": "stream",
          "text": [
            "Tensor(\"Const:0\", shape=(), dtype=float32) Tensor(\"Const_1:0\", shape=(), dtype=float32)\n",
            "[3.0, 4.0]\n"
          ],
          "name": "stdout"
        }
      ]
    }
  ]
}