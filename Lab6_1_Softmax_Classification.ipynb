{
  "nbformat": 4,
  "nbformat_minor": 0,
  "metadata": {
    "colab": {
      "name": "Lab6_1_Softmax_Classification.ipynb",
      "provenance": [],
      "authorship_tag": "ABX9TyO+tmP4RTVjAAfu3iVZ/gje",
      "include_colab_link": true
    },
    "kernelspec": {
      "name": "python3",
      "display_name": "Python 3"
    }
  },
  "cells": [
    {
      "cell_type": "markdown",
      "metadata": {
        "id": "view-in-github",
        "colab_type": "text"
      },
      "source": [
        "<a href=\"https://colab.research.google.com/github/YeonKang/Tensorflow-with-Colab/blob/master/Lab6_Softmax_Classification.ipynb\" target=\"_parent\"><img src=\"https://colab.research.google.com/assets/colab-badge.svg\" alt=\"Open In Colab\"/></a>"
      ]
    },
    {
      "cell_type": "code",
      "metadata": {
        "colab": {
          "base_uri": "https://localhost:8080/"
        },
        "id": "An2ockq2BADF",
        "outputId": "e7730c05-9bac-4b6d-d78c-f662fac79f17"
      },
      "source": [
        "import tensorflow as tf\r\n",
        "import numpy as np\r\n",
        "\r\n",
        "print(tf.__version__)\r\n",
        "\r\n",
        "tf.random.set_seed(777)  #for reproducibility"
      ],
      "execution_count": 1,
      "outputs": [
        {
          "output_type": "stream",
          "text": [
            "2.4.1\n"
          ],
          "name": "stdout"
        }
      ]
    },
    {
      "cell_type": "markdown",
      "metadata": {
        "id": "uH2we7qPBH-S"
      },
      "source": [
        "**Data**"
      ]
    },
    {
      "cell_type": "code",
      "metadata": {
        "id": "iaNRJne8BLqT"
      },
      "source": [
        "x_data = [[1, 2, 1, 1],\r\n",
        "          [2, 1, 3, 2],\r\n",
        "          [3, 1, 3, 4],\r\n",
        "          [4, 1, 5, 5],\r\n",
        "          [1, 7, 5, 5],\r\n",
        "          [1, 2, 5, 6],\r\n",
        "          [1, 6, 6, 6],\r\n",
        "          [1, 7, 7, 7]]\r\n",
        "y_data = [[0, 0, 1],\r\n",
        "          [0, 0, 1],\r\n",
        "          [0, 0, 1],\r\n",
        "          [0, 1, 0],\r\n",
        "          [0, 1, 0],\r\n",
        "          [0, 1, 0],\r\n",
        "          [1, 0, 0],\r\n",
        "          [1, 0, 0]]\r\n",
        "\r\n",
        "#convert into numpy and float format\r\n",
        "x_data = np.asarray(x_data, dtype=np.float32)\r\n",
        "y_data = np.asarray(y_data, dtype=np.float32)"
      ],
      "execution_count": 2,
      "outputs": []
    },
    {
      "cell_type": "code",
      "metadata": {
        "colab": {
          "base_uri": "https://localhost:8080/"
        },
        "id": "djzPeShuBSfV",
        "outputId": "657db9c7-d37f-44e1-fe20-74a5d06c75e2"
      },
      "source": [
        "nb_classes = 3\r\n",
        "\r\n",
        "print(x_data.shape)\r\n",
        "print(y_data.shape)"
      ],
      "execution_count": 3,
      "outputs": [
        {
          "output_type": "stream",
          "text": [
            "(8, 4)\n",
            "(8, 3)\n"
          ],
          "name": "stdout"
        }
      ]
    },
    {
      "cell_type": "markdown",
      "metadata": {
        "id": "xaBQYhwoBW3b"
      },
      "source": [
        "**weight & bias**"
      ]
    },
    {
      "cell_type": "code",
      "metadata": {
        "colab": {
          "base_uri": "https://localhost:8080/"
        },
        "id": "QQ2qozhyBVnZ",
        "outputId": "ce03fcc5-156f-4df5-cc16-66b3b86d80d8"
      },
      "source": [
        "W = tf.Variable(tf.random.normal((4, nb_classes)), name='weight')\r\n",
        "b = tf.Variable(tf.random.normal((nb_classes,)), name='bias')\r\n",
        "variables = [W, b]\r\n",
        "\r\n",
        "print(W,b)"
      ],
      "execution_count": 4,
      "outputs": [
        {
          "output_type": "stream",
          "text": [
            "<tf.Variable 'weight:0' shape=(4, 3) dtype=float32, numpy=\n",
            "array([[ 0.7706481 ,  0.37335402, -0.05576323],\n",
            "       [ 0.00358377, -0.5898363 ,  1.5702795 ],\n",
            "       [ 0.2460895 , -0.09918973,  1.4418385 ],\n",
            "       [ 0.3200988 ,  0.526784  , -0.7703731 ]], dtype=float32)> <tf.Variable 'bias:0' shape=(3,) dtype=float32, numpy=array([-1.3080608 , -0.13253094,  0.5513761 ], dtype=float32)>\n"
          ],
          "name": "stdout"
        }
      ]
    },
    {
      "cell_type": "code",
      "metadata": {
        "colab": {
          "base_uri": "https://localhost:8080/"
        },
        "id": "jhJeLVDwBbaR",
        "outputId": "4425bd2e-014e-479d-fe2a-d89f84bd8ecb"
      },
      "source": [
        "def hypothesis(X):\r\n",
        "    return tf.nn.softmax(tf.matmul(X, W) + b)\r\n",
        "\r\n",
        "print(hypothesis(x_data))"
      ],
      "execution_count": 5,
      "outputs": [
        {
          "output_type": "stream",
          "text": [
            "tf.Tensor(\n",
            "[[1.3657196e-02 7.9016238e-03 9.7844124e-01]\n",
            " [3.9259776e-02 1.7034741e-02 9.4370544e-01]\n",
            " [3.8038525e-01 1.6772316e-01 4.5189157e-01]\n",
            " [3.2339048e-01 5.9075940e-02 6.1753362e-01]\n",
            " [3.6299741e-06 6.2072729e-08 9.9999630e-01]\n",
            " [2.6252020e-02 1.0727962e-02 9.6301997e-01]\n",
            " [1.5652511e-05 4.2180278e-07 9.9998391e-01]\n",
            " [2.9407690e-06 3.8113328e-08 9.9999702e-01]], shape=(8, 3), dtype=float32)\n"
          ],
          "name": "stdout"
        }
      ]
    },
    {
      "cell_type": "code",
      "metadata": {
        "colab": {
          "base_uri": "https://localhost:8080/"
        },
        "id": "YoKna_kyBdMm",
        "outputId": "6da5534f-f590-45cb-cdf7-4f982fb68231"
      },
      "source": [
        "sample_db = [[8,2,1,4]]\r\n",
        "sample_db = np.asarray(sample_db, dtype=np.float32)\r\n",
        "\r\n",
        "print(hypothesis(sample_db))"
      ],
      "execution_count": 6,
      "outputs": [
        {
          "output_type": "stream",
          "text": [
            "tf.Tensor([[0.9302204  0.06200533 0.00777428]], shape=(1, 3), dtype=float32)\n"
          ],
          "name": "stdout"
        }
      ]
    },
    {
      "cell_type": "code",
      "metadata": {
        "colab": {
          "base_uri": "https://localhost:8080/"
        },
        "id": "Fs21VXMcBfFz",
        "outputId": "d10a417a-cc30-4c42-84bf-dc1a1c9028e0"
      },
      "source": [
        "def cost_fn(X, Y):\r\n",
        "    logits = hypothesis(X)\r\n",
        "    cost = -tf.reduce_sum(Y * tf.math.log(logits), axis=1)\r\n",
        "    cost_mean = tf.reduce_mean(cost)\r\n",
        "    \r\n",
        "    return cost_mean\r\n",
        "\r\n",
        "print(cost_fn(x_data, y_data))"
      ],
      "execution_count": 7,
      "outputs": [
        {
          "output_type": "stream",
          "text": [
            "tf.Tensor(6.07932, shape=(), dtype=float32)\n"
          ],
          "name": "stdout"
        }
      ]
    },
    {
      "cell_type": "code",
      "metadata": {
        "colab": {
          "base_uri": "https://localhost:8080/"
        },
        "id": "4NE6xx6IBgsd",
        "outputId": "36ae05ae-7df2-485c-cf4f-704e11bb0190"
      },
      "source": [
        "x = tf.constant(3.0)\r\n",
        "with tf.GradientTape() as g:\r\n",
        "    g.watch(x)\r\n",
        "    y = x * x\r\n",
        "dy_dx = g.gradient(y, x)\r\n",
        "print(dy_dx)"
      ],
      "execution_count": 8,
      "outputs": [
        {
          "output_type": "stream",
          "text": [
            "tf.Tensor(6.0, shape=(), dtype=float32)\n"
          ],
          "name": "stdout"
        }
      ]
    },
    {
      "cell_type": "code",
      "metadata": {
        "colab": {
          "base_uri": "https://localhost:8080/"
        },
        "id": "OHTp9qZ_oO5J",
        "outputId": "19b7b3f5-869a-453d-b2e5-745fd4eaa522"
      },
      "source": [
        "def grad_fn(X, Y):\r\n",
        "    with tf.GradientTape() as tape:\r\n",
        "        loss = cost_fn(X, Y)\r\n",
        "        grads = tape.gradient(loss, variables)\r\n",
        "\r\n",
        "        return grads\r\n",
        "\r\n",
        "print(grad_fn(x_data, y_data))"
      ],
      "execution_count": 9,
      "outputs": [
        {
          "output_type": "stream",
          "text": [
            "[<tf.Tensor: shape=(4, 3), dtype=float32, numpy=\n",
            "array([[ 0.06914607, -0.6509784 ,  0.5818323 ],\n",
            "       [-1.5221257 , -1.214863  ,  2.7369885 ],\n",
            "       [-1.2473828 , -1.7611003 ,  3.008483  ],\n",
            "       [-1.2014606 , -1.8659233 ,  3.0673838 ]], dtype=float32)>, <tf.Tensor: shape=(3,), dtype=float32, numpy=array([-0.15212913, -0.34219202,  0.4943211 ], dtype=float32)>]\n"
          ],
          "name": "stdout"
        }
      ]
    },
    {
      "cell_type": "code",
      "metadata": {
        "colab": {
          "base_uri": "https://localhost:8080/"
        },
        "id": "XTK4rChCoRZi",
        "outputId": "1efc5c61-4e15-4953-f6ea-0effb1761604"
      },
      "source": [
        "def fit(X, Y, epochs=2000, verbose=100):\r\n",
        "    optimizer =  tf.keras.optimizers.SGD(learning_rate=0.1)\r\n",
        "\r\n",
        "    for i in range(epochs):\r\n",
        "        grads = grad_fn(X, Y)\r\n",
        "        optimizer.apply_gradients(zip(grads, variables))\r\n",
        "        if (i==0) | ((i+1)%verbose==0):\r\n",
        "            print('Loss at epoch %d: %f' %(i+1, cost_fn(X, Y).numpy()))\r\n",
        "            \r\n",
        "fit(x_data, y_data)"
      ],
      "execution_count": 11,
      "outputs": [
        {
          "output_type": "stream",
          "text": [
            "Loss at epoch 1: 0.159427\n",
            "Loss at epoch 100: 0.154003\n",
            "Loss at epoch 200: 0.148872\n",
            "Loss at epoch 300: 0.144060\n",
            "Loss at epoch 400: 0.139539\n",
            "Loss at epoch 500: 0.135282\n",
            "Loss at epoch 600: 0.131269\n",
            "Loss at epoch 700: 0.127480\n",
            "Loss at epoch 800: 0.123896\n",
            "Loss at epoch 900: 0.120501\n",
            "Loss at epoch 1000: 0.117282\n",
            "Loss at epoch 1100: 0.114226\n",
            "Loss at epoch 1200: 0.111319\n",
            "Loss at epoch 1300: 0.108553\n",
            "Loss at epoch 1400: 0.105917\n",
            "Loss at epoch 1500: 0.103402\n",
            "Loss at epoch 1600: 0.101001\n",
            "Loss at epoch 1700: 0.098705\n",
            "Loss at epoch 1800: 0.096510\n",
            "Loss at epoch 1900: 0.094406\n",
            "Loss at epoch 2000: 0.092391\n"
          ],
          "name": "stdout"
        }
      ]
    },
    {
      "cell_type": "markdown",
      "metadata": {
        "id": "bgh2KdCiods8"
      },
      "source": [
        "**Prediction check**"
      ]
    },
    {
      "cell_type": "code",
      "metadata": {
        "colab": {
          "base_uri": "https://localhost:8080/"
        },
        "id": "ibxxGsb8oojG",
        "outputId": "2dc59824-a90a-40b5-caf8-75c1c7e59e8d"
      },
      "source": [
        "sample_data = [[2,1,3,2]]\r\n",
        "sample_data = np.asarray(sample_data, dtype=np.float32)\r\n",
        "\r\n",
        "a = hypothesis(sample_data)\r\n",
        "\r\n",
        "print(a)\r\n",
        "print(tf.argmax(a, 1))"
      ],
      "execution_count": 12,
      "outputs": [
        {
          "output_type": "stream",
          "text": [
            "tf.Tensor([[4.3665722e-04 4.6358608e-02 9.5320475e-01]], shape=(1, 3), dtype=float32)\n",
            "tf.Tensor([2], shape=(1,), dtype=int64)\n"
          ],
          "name": "stdout"
        }
      ]
    },
    {
      "cell_type": "code",
      "metadata": {
        "colab": {
          "base_uri": "https://localhost:8080/"
        },
        "id": "xtp8ebwdykd0",
        "outputId": "97a10d0a-0985-4e5a-8fca-93ca4ef06d17"
      },
      "source": [
        "b = hypothesis(x_data)\r\n",
        "print(b)\r\n",
        "print(tf.argmax(b, 1))\r\n",
        "print(tf.argmax(y_data, 1))"
      ],
      "execution_count": 13,
      "outputs": [
        {
          "output_type": "stream",
          "text": [
            "tf.Tensor(\n",
            "[[2.9436803e-08 1.5021204e-04 9.9984968e-01]\n",
            " [4.3665766e-04 4.6358608e-02 9.5320475e-01]\n",
            " [9.5459651e-10 9.6164159e-02 9.0383583e-01]\n",
            " [2.2774459e-07 9.1306245e-01 8.6937323e-02]\n",
            " [1.6050830e-01 8.3273554e-01 6.7562466e-03]\n",
            " [8.4970482e-02 9.1502678e-01 2.6765351e-06]\n",
            " [8.2284790e-01 1.7714870e-01 3.2996820e-06]\n",
            " [9.6834624e-01 3.1653829e-02 1.4557989e-08]], shape=(8, 3), dtype=float32)\n",
            "tf.Tensor([2 2 2 1 1 1 0 0], shape=(8,), dtype=int64)\n",
            "tf.Tensor([2 2 2 1 1 1 0 0], shape=(8,), dtype=int64)\n"
          ],
          "name": "stdout"
        }
      ]
    },
    {
      "cell_type": "markdown",
      "metadata": {
        "id": "HD280LlbymFT"
      },
      "source": [
        "**Convert as Class**"
      ]
    },
    {
      "cell_type": "code",
      "metadata": {
        "id": "pIBc_oEUyp3c",
        "outputId": "393a4187-549d-4eb3-cd96-9e4d61afd4da",
        "colab": {
          "base_uri": "https://localhost:8080/"
        }
      },
      "source": [
        "class softmax_classifer(tf.keras.Model):\r\n",
        "    def __init__(self, nb_classes):\r\n",
        "        super(softmax_classifer, self).__init__()\r\n",
        "        self.W = tf.Variable(tf.random.normal((4, nb_classes)), name='weight')\r\n",
        "        self.b = tf.Variable(tf.random.normal((nb_classes,)), name='bias')\r\n",
        "        \r\n",
        "    def softmax_regression(self, X):\r\n",
        "        return tf.nn.softmax(tf.matmul(X, self.W) + self.b)\r\n",
        "    \r\n",
        "    def cost_fn(self, X, Y):\r\n",
        "        logits = self.softmax_regression(X)\r\n",
        "        cost = tf.reduce_mean(-tf.reduce_sum(Y * tf.math.log(logits), axis=1))        \r\n",
        "        return cost\r\n",
        "    \r\n",
        "    def grad_fn(self, X, Y):\r\n",
        "        with tf.GradientTape() as tape:\r\n",
        "            cost = self.cost_fn(x_data, y_data)\r\n",
        "            grads = tape.gradient(cost, self.variables)            \r\n",
        "            return grads\r\n",
        "    \r\n",
        "    def fit(self, X, Y, epochs=2000, verbose=500):\r\n",
        "        optimizer =  tf.keras.optimizers.SGD(learning_rate=0.1)\r\n",
        "\r\n",
        "        for i in range(epochs):\r\n",
        "            grads = self.grad_fn(X, Y)\r\n",
        "            optimizer.apply_gradients(zip(grads, self.variables))\r\n",
        "            if (i==0) | ((i+1)%verbose==0):\r\n",
        "                print('Loss at epoch %d: %f' %(i+1, self.cost_fn(X, Y).numpy()))\r\n",
        "            \r\n",
        "model = softmax_classifer(nb_classes)\r\n",
        "model.fit(x_data, y_data)"
      ],
      "execution_count": 14,
      "outputs": [
        {
          "output_type": "stream",
          "text": [
            "Loss at epoch 1: 2.472669\n",
            "Loss at epoch 500: 0.375229\n",
            "Loss at epoch 1000: 0.229923\n",
            "Loss at epoch 1500: 0.182148\n",
            "Loss at epoch 2000: 0.150633\n"
          ],
          "name": "stdout"
        }
      ]
    }
  ]
}
