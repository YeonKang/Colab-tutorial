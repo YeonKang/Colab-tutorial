{
  "nbformat": 4,
  "nbformat_minor": 0,
  "metadata": {
    "colab": {
      "name": "Lab10_1_2_mnist_NN_ReLu.ipynb",
      "provenance": [],
      "authorship_tag": "ABX9TyM+nWjZ2FuM3Jkbck23Smrv",
      "include_colab_link": true
    },
    "kernelspec": {
      "name": "python3",
      "display_name": "Python 3"
    }
  },
  "cells": [
    {
      "cell_type": "markdown",
      "metadata": {
        "id": "view-in-github",
        "colab_type": "text"
      },
      "source": [
        "<a href=\"https://colab.research.google.com/github/YeonKang/Tensorflow-with-Colab/blob/master/Lab10_1_2_mnist_NN_ReLu.ipynb\" target=\"_parent\"><img src=\"https://colab.research.google.com/assets/colab-badge.svg\" alt=\"Open In Colab\"/></a>"
      ]
    },
    {
      "cell_type": "code",
      "metadata": {
        "id": "7Wqnik1T1o0u",
        "colab": {
          "base_uri": "https://localhost:8080/"
        },
        "outputId": "a14050a8-e4ed-4f01-9e60-340b3da8ac7b"
      },
      "source": [
        "import tensorflow as tf\r\n",
        "import numpy as np\r\n",
        "from tensorflow.keras.utils import to_categorical\r\n",
        "from tensorflow.keras.datasets import mnist\r\n",
        "from time import time\r\n",
        "import os\r\n",
        "print(tf.__version__)"
      ],
      "execution_count": 2,
      "outputs": [
        {
          "output_type": "stream",
          "text": [
            "2.4.1\n"
          ],
          "name": "stdout"
        }
      ]
    },
    {
      "cell_type": "markdown",
      "metadata": {
        "id": "k_LZMOQ0oOsr"
      },
      "source": [
        "**Checkpoint function**"
      ]
    },
    {
      "cell_type": "code",
      "metadata": {
        "id": "sO06GJ9doSz3"
      },
      "source": [
        "def load(model, checkpoint_dir):\r\n",
        "    print(\" [*] Reading checkpoints...\")\r\n",
        "\r\n",
        "    ckpt = tf.train.get_checkpoint_state(checkpoint_dir)\r\n",
        "    if ckpt :\r\n",
        "        ckpt_name = os.path.basename(ckpt.model_checkpoint_path)\r\n",
        "        checkpoint = tf.train.Checkpoint(dnn=model)\r\n",
        "        checkpoint.restore(save_path=os.path.join(checkpoint_dir, ckpt_name))\r\n",
        "        counter = int(ckpt_name.split('-')[1])\r\n",
        "        print(\" [*] Success to read {}\".format(ckpt_name))\r\n",
        "        return True, counter\r\n",
        "    else:\r\n",
        "        print(\" [*] Failed to find a checkpoint\")\r\n",
        "        return False, 0\r\n",
        "\r\n",
        "def check_folder(dir):\r\n",
        "    if not os.path.exists(dir):\r\n",
        "        os.makedirs(dir)\r\n",
        "    return dir"
      ],
      "execution_count": 3,
      "outputs": []
    },
    {
      "cell_type": "markdown",
      "metadata": {
        "id": "BYPpZ3A0oTsY"
      },
      "source": [
        "**Data load & pre-processing function**"
      ]
    },
    {
      "cell_type": "code",
      "metadata": {
        "id": "GHhSFlB_oVSe"
      },
      "source": [
        "def load_mnist() :\r\n",
        "    (train_data, train_labels), (test_data, test_labels) = mnist.load_data()\r\n",
        "    train_data = np.expand_dims(train_data, axis=-1) # [N, 28, 28] -> [N, 28, 28, 1]\r\n",
        "    test_data = np.expand_dims(test_data, axis=-1) # [N, 28, 28] -> [N, 28, 28, 1]\r\n",
        "\r\n",
        "    train_data, test_data = normalize(train_data, test_data)\r\n",
        "\r\n",
        "    train_labels = to_categorical(train_labels, 10) # [N,] -> [N, 10]\r\n",
        "    test_labels = to_categorical(test_labels, 10) # [N,] -> [N, 10]\r\n",
        "\r\n",
        "    return train_data, train_labels, test_data, test_labels\r\n",
        "\r\n",
        "def normalize(train_data, test_data):\r\n",
        "    train_data = train_data.astype(np.float32) / 255.0\r\n",
        "    test_data = test_data.astype(np.float32) / 255.0\r\n",
        "\r\n",
        "    return train_data, test_data"
      ],
      "execution_count": 4,
      "outputs": []
    },
    {
      "cell_type": "markdown",
      "metadata": {
        "id": "LYQam0bKoW-7"
      },
      "source": [
        "**Performance function**"
      ]
    },
    {
      "cell_type": "code",
      "metadata": {
        "id": "Vk_8zI4xoaW5"
      },
      "source": [
        "def loss_fn(model, images, labels):\r\n",
        "    logits = model(images, training=True)\r\n",
        "    loss = tf.reduce_mean(tf.keras.losses.categorical_crossentropy(y_pred=logits, y_true=labels, \r\n",
        "                                                                   from_logits=True))\r\n",
        "    return loss\r\n",
        "\r\n",
        "def accuracy_fn(model, images, labels):\r\n",
        "    logits = model(images, training=False)\r\n",
        "    prediction = tf.equal(tf.argmax(logits, -1), tf.argmax(labels, -1))\r\n",
        "    accuracy = tf.reduce_mean(tf.cast(prediction, tf.float32))\r\n",
        "    return accuracy\r\n",
        "\r\n",
        "def grad(model, images, labels):\r\n",
        "    with tf.GradientTape() as tape:\r\n",
        "        loss = loss_fn(model, images, labels)\r\n",
        "    return tape.gradient(loss, model.variables)"
      ],
      "execution_count": 5,
      "outputs": []
    }
  ]
}