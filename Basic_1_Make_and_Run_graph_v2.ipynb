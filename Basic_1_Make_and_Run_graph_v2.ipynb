{
  "nbformat": 4,
  "nbformat_minor": 0,
  "metadata": {
    "colab": {
      "name": "Basic_1_Make_and_Run_graph_v2.ipynb",
      "provenance": [],
      "authorship_tag": "ABX9TyNksJ2nT7wyrDVxTmHf1P/i"
    },
    "kernelspec": {
      "name": "python3",
      "display_name": "Python 3"
    }
  },
  "cells": [
    {
      "cell_type": "code",
      "metadata": {
        "id": "1oE9TXcY_WNr",
        "colab_type": "code",
        "colab": {
          "base_uri": "https://localhost:8080/",
          "height": 35
        },
        "outputId": "daf37ff8-b4e8-48fc-c8ba-657c662b3dd1"
      },
      "source": [
        "import tensorflow as tf\n",
        "\n",
        "#define node and print tensor\n",
        "node1 = tf.constant(3.0, dtype=tf.float32)\n",
        "node2 = tf.constant(4.0)\n",
        "print(node1, node2)"
      ],
      "execution_count": 1,
      "outputs": [
        {
          "output_type": "stream",
          "text": [
            "tf.Tensor(3.0, shape=(), dtype=float32) tf.Tensor(4.0, shape=(), dtype=float32)\n"
          ],
          "name": "stdout"
        }
      ]
    },
    {
      "cell_type": "code",
      "metadata": {
        "id": "3_q7j8szJo-j",
        "colab_type": "code",
        "colab": {
          "base_uri": "https://localhost:8080/",
          "height": 35
        },
        "outputId": "249bfc77-5e3c-486e-f8ab-b70f13bb6a70"
      },
      "source": [
        "#print node\n",
        "print(node1.numpy(), node2.numpy())"
      ],
      "execution_count": 2,
      "outputs": [
        {
          "output_type": "stream",
          "text": [
            "3.0 4.0\n"
          ],
          "name": "stdout"
        }
      ]
    },
    {
      "cell_type": "code",
      "metadata": {
        "id": "ZIcwKrE1Jyr8",
        "colab_type": "code",
        "colab": {
          "base_uri": "https://localhost:8080/",
          "height": 53
        },
        "outputId": "c3aedd30-a55a-4c12-c904-f61be33f5b36"
      },
      "source": [
        "#define adder node3 and print\n",
        "node3 = tf.add(node1, node2)\n",
        "print(\"node3:\", node3)\n",
        "print(\"node3.numpy():\", node3.numpy())"
      ],
      "execution_count": 3,
      "outputs": [
        {
          "output_type": "stream",
          "text": [
            "node3: tf.Tensor(7.0, shape=(), dtype=float32)\n",
            "node3.numpy(): 7.0\n"
          ],
          "name": "stdout"
        }
      ]
    }
  ]
}