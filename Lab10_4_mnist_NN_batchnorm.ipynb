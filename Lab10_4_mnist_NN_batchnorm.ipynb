{
  "nbformat": 4,
  "nbformat_minor": 0,
  "metadata": {
    "colab": {
      "name": "Lab10_4_mnist_NN_batchnorm.ipynb",
      "provenance": [],
      "authorship_tag": "ABX9TyPEnxUmq32SwuyOA+CJ54VN",
      "include_colab_link": true
    },
    "kernelspec": {
      "name": "python3",
      "display_name": "Python 3"
    }
  },
  "cells": [
    {
      "cell_type": "markdown",
      "metadata": {
        "id": "view-in-github",
        "colab_type": "text"
      },
      "source": [
        "<a href=\"https://colab.research.google.com/github/YeonKang/Tensorflow-with-Colab/blob/master/Lab10_4_mnist_NN_batchnorm.ipynb\" target=\"_parent\"><img src=\"https://colab.research.google.com/assets/colab-badge.svg\" alt=\"Open In Colab\"/></a>"
      ]
    },
    {
      "cell_type": "code",
      "metadata": {
        "colab": {
          "base_uri": "https://localhost:8080/"
        },
        "id": "qF0A4TqL_GaJ",
        "outputId": "c336ebde-23d8-4fa9-c899-e0643a6137e1"
      },
      "source": [
        "import tensorflow as tf\r\n",
        "import numpy as np\r\n",
        "from tensorflow.keras.utils import to_categorical\r\n",
        "from tensorflow.keras.datasets import mnist\r\n",
        "from time import time\r\n",
        "import os\r\n",
        "print(tf.__version__)"
      ],
      "execution_count": 1,
      "outputs": [
        {
          "output_type": "stream",
          "text": [
            "2.4.1\n"
          ],
          "name": "stdout"
        }
      ]
    },
    {
      "cell_type": "markdown",
      "metadata": {
        "id": "yCHV3l3S_Nvf"
      },
      "source": [
        "**Checkpoint function**"
      ]
    },
    {
      "cell_type": "code",
      "metadata": {
        "id": "pp9OLB6j_PaG"
      },
      "source": [
        "def load(model, checkpoint_dir):\r\n",
        "    print(\" [*] Reading checkpoints...\")\r\n",
        "\r\n",
        "    ckpt = tf.train.get_checkpoint_state(checkpoint_dir)\r\n",
        "    if ckpt :\r\n",
        "        ckpt_name = os.path.basename(ckpt.model_checkpoint_path)\r\n",
        "        checkpoint = tf.train.Checkpoint(dnn=model)\r\n",
        "        checkpoint.restore(save_path=os.path.join(checkpoint_dir, ckpt_name))\r\n",
        "        counter = int(ckpt_name.split('-')[1])\r\n",
        "        print(\" [*] Success to read {}\".format(ckpt_name))\r\n",
        "        return True, counter\r\n",
        "    else:\r\n",
        "        print(\" [*] Failed to find a checkpoint\")\r\n",
        "        return False, 0\r\n",
        "\r\n",
        "def check_folder(dir):\r\n",
        "    if not os.path.exists(dir):\r\n",
        "        os.makedirs(dir)\r\n",
        "    return dir"
      ],
      "execution_count": 2,
      "outputs": []
    },
    {
      "cell_type": "markdown",
      "metadata": {
        "id": "j_cf-fuW_SCu"
      },
      "source": [
        "**Data load & pre-processing function**"
      ]
    },
    {
      "cell_type": "code",
      "metadata": {
        "id": "63iJ4E2O_T2i"
      },
      "source": [
        "def load_mnist() :\r\n",
        "    (train_data, train_labels), (test_data, test_labels) = mnist.load_data()\r\n",
        "    train_data = np.expand_dims(train_data, axis=-1) #[N, 28, 28] -> [N, 28, 28, 1]\r\n",
        "    test_data = np.expand_dims(test_data, axis=-1) #[N, 28, 28] -> [N, 28, 28, 1]\r\n",
        "\r\n",
        "    train_data, test_data = normalize(train_data, test_data)\r\n",
        "\r\n",
        "    train_labels = to_categorical(train_labels, 10) #[N,] -> [N, 10]\r\n",
        "    test_labels = to_categorical(test_labels, 10) #[N,] -> [N, 10]\r\n",
        "\r\n",
        "    return train_data, train_labels, test_data, test_labels\r\n",
        "\r\n",
        "def normalize(train_data, test_data):\r\n",
        "    train_data = train_data.astype(np.float32) / 255.0\r\n",
        "    test_data = test_data.astype(np.float32) / 255.0\r\n",
        "\r\n",
        "    return train_data, test_data"
      ],
      "execution_count": 3,
      "outputs": []
    },
    {
      "cell_type": "markdown",
      "metadata": {
        "id": "qoehxtyI_XJ7"
      },
      "source": [
        "**Performance function**"
      ]
    },
    {
      "cell_type": "code",
      "metadata": {
        "id": "EqQ4-v1S_aGQ"
      },
      "source": [
        "def loss_fn(model, images, labels):\r\n",
        "    logits = model(images, training=True)\r\n",
        "    loss = tf.reduce_mean(tf.keras.losses.categorical_crossentropy(y_pred=logits, y_true=labels, \r\n",
        "                                                                   from_logits=True))\r\n",
        "    return loss\r\n",
        "\r\n",
        "def accuracy_fn(model, images, labels):\r\n",
        "    logits = model(images, training=False)\r\n",
        "    prediction = tf.equal(tf.argmax(logits, -1), tf.argmax(labels, -1))\r\n",
        "    accuracy = tf.reduce_mean(tf.cast(prediction, tf.float32))\r\n",
        "    return accuracy\r\n",
        "\r\n",
        "def grad(model, images, labels):\r\n",
        "    with tf.GradientTape() as tape:\r\n",
        "        loss = loss_fn(model, images, labels)\r\n",
        "    return tape.gradient(loss, model.trainable_variables)"
      ],
      "execution_count": 4,
      "outputs": []
    },
    {
      "cell_type": "markdown",
      "metadata": {
        "id": "pI4iT7Dv_a9a"
      },
      "source": [
        "**Model function**"
      ]
    },
    {
      "cell_type": "code",
      "metadata": {
        "id": "VKYIZbMA_ctS"
      },
      "source": [
        "def flatten() :\r\n",
        "    return tf.keras.layers.Flatten()\r\n",
        "\r\n",
        "def dense(label_dim, weight_init) :\r\n",
        "    return tf.keras.layers.Dense(units=label_dim, use_bias=True, kernel_initializer=weight_init)\r\n",
        "\r\n",
        "def relu() :\r\n",
        "    return tf.keras.layers.Activation(tf.keras.activations.relu)\r\n",
        "\r\n",
        "def batch_norm() :\r\n",
        "    return tf.keras.layers.BatchNormalization()"
      ],
      "execution_count": 5,
      "outputs": []
    },
    {
      "cell_type": "markdown",
      "metadata": {
        "id": "jwXtvK7U_fBu"
      },
      "source": [
        "**Create model (class version)**"
      ]
    },
    {
      "cell_type": "code",
      "metadata": {
        "id": "RmbsoPQT_hAJ"
      },
      "source": [
        "class create_model_class(tf.keras.Model):\r\n",
        "    def __init__(self, label_dim):\r\n",
        "        super(create_model_class, self).__init__()\r\n",
        "        weight_init = tf.keras.initializers.glorot_uniform()\r\n",
        "\r\n",
        "        self.model = tf.keras.Sequential()\r\n",
        "        self.model.add(flatten())\r\n",
        "\r\n",
        "        for i in range(4):\r\n",
        "            self.model.add(dense(512, weight_init))\r\n",
        "            self.model.add(batch_norm())\r\n",
        "            self.model.add(relu())\r\n",
        "\r\n",
        "        self.model.add(dense(label_dim, weight_init))\r\n",
        "\r\n",
        "    def call(self, x, training=None, mask=None):\r\n",
        "\r\n",
        "        x = self.model(x)\r\n",
        "\r\n",
        "        return x"
      ],
      "execution_count": 6,
      "outputs": []
    },
    {
      "cell_type": "markdown",
      "metadata": {
        "id": "2EP4k_1L_kOx"
      },
      "source": [
        "**Create model (function version)**"
      ]
    },
    {
      "cell_type": "code",
      "metadata": {
        "id": "liBNueup_mQO"
      },
      "source": [
        "def create_model_function(label_dim) :\r\n",
        "    weight_init = tf.keras.initializers.glorot_uniform()\r\n",
        "\r\n",
        "    model = tf.keras.Sequential()\r\n",
        "    model.add(flatten())\r\n",
        "\r\n",
        "    for i in range(4) :\r\n",
        "        model.add(dense(512, weight_init))\r\n",
        "        model.add(batch_norm())\r\n",
        "        model.add(relu())\r\n",
        "\r\n",
        "    model.add(dense(label_dim, weight_init))\r\n",
        "\r\n",
        "    return model"
      ],
      "execution_count": 7,
      "outputs": []
    },
    {
      "cell_type": "markdown",
      "metadata": {
        "id": "L5QBNhMC_odw"
      },
      "source": [
        "**Define data & hyper-parameter**"
      ]
    },
    {
      "cell_type": "code",
      "metadata": {
        "colab": {
          "base_uri": "https://localhost:8080/"
        },
        "id": "c-EkoNp7_qMB",
        "outputId": "cb1350f8-29b6-4ea4-9162-159f42992e20"
      },
      "source": [
        "\"\"\" dataset \"\"\"\r\n",
        "train_x, train_y, test_x, test_y = load_mnist()\r\n",
        "\r\n",
        "\"\"\" parameters \"\"\"\r\n",
        "learning_rate = 0.001\r\n",
        "batch_size = 128\r\n",
        "\r\n",
        "training_epochs = 1\r\n",
        "training_iterations = len(train_x) // batch_size\r\n",
        "\r\n",
        "label_dim = 10\r\n",
        "\r\n",
        "train_flag = True\r\n",
        "\r\n",
        "\"\"\" Graph Input using Dataset API \"\"\"\r\n",
        "train_dataset = tf.data.Dataset.from_tensor_slices((train_x, train_y)).\\\r\n",
        "    shuffle(buffer_size=100000).\\\r\n",
        "    prefetch(buffer_size=batch_size).\\\r\n",
        "    batch(batch_size, drop_remainder=True)\r\n",
        "\r\n",
        "test_dataset = tf.data.Dataset.from_tensor_slices((test_x, test_y)).\\\r\n",
        "    shuffle(buffer_size=100000).\\\r\n",
        "    prefetch(buffer_size=len(test_x)).\\\r\n",
        "    batch(len(test_x))"
      ],
      "execution_count": 8,
      "outputs": [
        {
          "output_type": "stream",
          "text": [
            "Downloading data from https://storage.googleapis.com/tensorflow/tf-keras-datasets/mnist.npz\n",
            "11493376/11490434 [==============================] - 0s 0us/step\n"
          ],
          "name": "stdout"
        }
      ]
    },
    {
      "cell_type": "markdown",
      "metadata": {
        "id": "92lXFVb7_tGM"
      },
      "source": [
        "**Define model & optimizer & writer**"
      ]
    },
    {
      "cell_type": "code",
      "metadata": {
        "id": "50boyJwt_vD4"
      },
      "source": [
        "\"\"\" Model \"\"\"\r\n",
        "network = create_model_function(label_dim)\r\n",
        "\r\n",
        "\"\"\" Training \"\"\"\r\n",
        "optimizer = tf.keras.optimizers.Adam(learning_rate=learning_rate)\r\n",
        "\r\n",
        "\"\"\" Writer \"\"\"\r\n",
        "checkpoint_dir = 'checkpoints'\r\n",
        "logs_dir = 'logs'\r\n",
        "\r\n",
        "model_dir = 'nn_batchnorm'\r\n",
        "\r\n",
        "checkpoint_dir = os.path.join(checkpoint_dir, model_dir)\r\n",
        "check_folder(checkpoint_dir)\r\n",
        "checkpoint_prefix = os.path.join(checkpoint_dir, model_dir)\r\n",
        "logs_dir = os.path.join(logs_dir, model_dir)"
      ],
      "execution_count": 9,
      "outputs": []
    }
  ]
}