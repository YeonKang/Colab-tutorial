{
  "nbformat": 4,
  "nbformat_minor": 0,
  "metadata": {
    "colab": {
      "name": "Lab9_2_Tensorboard_(Neural_Net_for_XOR).ipynb",
      "provenance": [],
      "authorship_tag": "ABX9TyMUWvqCrQDcvIAtuz8wcoXJ",
      "include_colab_link": true
    },
    "kernelspec": {
      "name": "python3",
      "display_name": "Python 3"
    }
  },
  "cells": [
    {
      "cell_type": "markdown",
      "metadata": {
        "id": "view-in-github",
        "colab_type": "text"
      },
      "source": [
        "<a href=\"https://colab.research.google.com/github/YeonKang/Tensorflow-with-Colab/blob/master/Lab9_2_Tensorboard_(Neural_Net_for_XOR).ipynb\" target=\"_parent\"><img src=\"https://colab.research.google.com/assets/colab-badge.svg\" alt=\"Open In Colab\"/></a>"
      ]
    },
    {
      "cell_type": "code",
      "metadata": {
        "id": "gyuGmN4FzKSd",
        "colab": {
          "base_uri": "https://localhost:8080/"
        },
        "outputId": "9ee874bc-9f55-4291-af02-5b65b0049409"
      },
      "source": [
        "import numpy as np\r\n",
        "import matplotlib.pyplot as plt\r\n",
        "import tensorflow as tf\r\n",
        "\r\n",
        "tf.random.set_seed(777) #for reproducibility\r\n",
        "\r\n",
        "print(tf.__version__)"
      ],
      "execution_count": 1,
      "outputs": [
        {
          "output_type": "stream",
          "text": [
            "2.4.1\n"
          ],
          "name": "stdout"
        }
      ]
    },
    {
      "cell_type": "markdown",
      "metadata": {
        "id": "oDIbAsHnsX-4"
      },
      "source": [
        "**Data**"
      ]
    },
    {
      "cell_type": "code",
      "metadata": {
        "colab": {
          "base_uri": "https://localhost:8080/",
          "height": 279
        },
        "id": "9SrVwKZgsagb",
        "outputId": "f1454ffa-b6b1-4280-d0a3-59c7e2ec9bf6"
      },
      "source": [
        "x_data = [[0, 0],\r\n",
        "          [0, 1],\r\n",
        "          [1, 0],\r\n",
        "          [1, 1]]\r\n",
        "y_data = [[0],\r\n",
        "          [1],\r\n",
        "          [1],\r\n",
        "          [0]]\r\n",
        "\r\n",
        "plt.scatter(x_data[0][0],x_data[0][1], c='red' , marker='^')\r\n",
        "plt.scatter(x_data[3][0],x_data[3][1], c='red' , marker='^')\r\n",
        "plt.scatter(x_data[1][0],x_data[1][1], c='blue' , marker='^')\r\n",
        "plt.scatter(x_data[2][0],x_data[2][1], c='blue' , marker='^')\r\n",
        "\r\n",
        "plt.xlabel(\"x1\")\r\n",
        "plt.ylabel(\"x2\")\r\n",
        "plt.show()"
      ],
      "execution_count": 2,
      "outputs": [
        {
          "output_type": "display_data",
          "data": {
            "image/png": "[encoded data removed]",
            "text/plain": [
              "<Figure size 432x288 with 1 Axes>"
            ]
          },
          "metadata": {
            "tags": [],
            "needs_background": "light"
          }
        }
      ]
    },
    {
      "cell_type": "code",
      "metadata": {
        "id": "XzFP09Atsc_z"
      },
      "source": [
        "dataset = tf.data.Dataset.from_tensor_slices((x_data, y_data)).batch(len(x_data))\r\n",
        "\r\n",
        "def preprocess_data(features, labels):\r\n",
        "    features = tf.cast(features, tf.float32)\r\n",
        "    labels = tf.cast(labels, tf.float32)\r\n",
        "    return features, labels"
      ],
      "execution_count": 3,
      "outputs": []
    },
    {
      "cell_type": "markdown",
      "metadata": {
        "id": "8yCx-SDWsg2S"
      },
      "source": [
        "**use Tensorboard to draw a graph**"
      ]
    },
    {
      "cell_type": "code",
      "metadata": {
        "id": "YVGbCAJRssP_"
      },
      "source": [
        "log_path = \"./logs/xor\"\r\n",
        "writer = tf.summary.create_file_writer(log_path)"
      ],
      "execution_count": 4,
      "outputs": []
    },
    {
      "cell_type": "markdown",
      "metadata": {
        "id": "tKSxBSNGtzAu"
      },
      "source": [
        "**(Optional) usd Tensorboard on Jupyter Notebook**"
      ]
    },
    {
      "cell_type": "code",
      "metadata": {
        "id": "jwpqEAxet-xj"
      },
      "source": [
        "# Load the TensorBoard notebook extension\r\n",
        "%load_ext tensorboard\r\n",
        "%tensorboard --logdir logs/xor"
      ],
      "execution_count": null,
      "outputs": []
    },
    {
      "cell_type": "markdown",
      "metadata": {
        "id": "1WYhVwEPtW6X"
      },
      "source": [
        "**Deep Neural Network XOR model**"
      ]
    },
    {
      "cell_type": "code",
      "metadata": {
        "id": "_Xs64IcNtWOr"
      },
      "source": [
        "W1 = tf.Variable(tf.random.normal((2, 10)), name='weight1')\r\n",
        "b1 = tf.Variable(tf.random.normal((10,)), name='bias1')\r\n",
        "\r\n",
        "W2 = tf.Variable(tf.random.normal((10, 10)), name='weight2')\r\n",
        "b2 = tf.Variable(tf.random.normal((10,)), name='bias2')\r\n",
        "\r\n",
        "W3 = tf.Variable(tf.random.normal((10, 10)), name='weight3')\r\n",
        "b3 = tf.Variable(tf.random.normal((10,)), name='bias3')\r\n",
        "\r\n",
        "W4 = tf.Variable(tf.random.normal((10, 1)), name='weight4')\r\n",
        "b4 = tf.Variable(tf.random.normal((1,)), name='bias4')\r\n",
        "\r\n",
        "def neural_net(features, step):\r\n",
        "    layer1 = tf.sigmoid(tf.matmul(features, W1) + b1)\r\n",
        "    layer2 = tf.sigmoid(tf.matmul(layer1, W2) + b2)\r\n",
        "    layer3 = tf.sigmoid(tf.matmul(layer2, W3) + b3)\r\n",
        "    hypothesis = tf.sigmoid(tf.matmul(layer3, W4) + b4)\r\n",
        "\r\n",
        "    with writer.as_default():\r\n",
        "        tf.summary.histogram(\"weights1\", W1, step=step)\r\n",
        "        tf.summary.histogram(\"biases1\", b1, step=step)\r\n",
        "        tf.summary.histogram(\"layer1\", layer1, step=step)\r\n",
        "\r\n",
        "        tf.summary.histogram(\"weights2\", W2, step=step)\r\n",
        "        tf.summary.histogram(\"biases2\", b2, step=step)\r\n",
        "        tf.summary.histogram(\"layer2\", layer2, step=step)\r\n",
        "\r\n",
        "        tf.summary.histogram(\"weights3\", W3, step=step)\r\n",
        "        tf.summary.histogram(\"biases3\", b3, step=step)\r\n",
        "        tf.summary.histogram(\"layer3\", layer3, step=step)\r\n",
        "\r\n",
        "        tf.summary.histogram(\"weights4\", W4, step=step)\r\n",
        "        tf.summary.histogram(\"biases4\", b4, step=step)\r\n",
        "        tf.summary.histogram(\"hypothesis\", hypothesis, step=step)\r\n",
        "    return hypothesis\r\n",
        "\r\n",
        "def loss_fn(hypothesis, labels):\r\n",
        "    cost = -tf.reduce_mean(labels * tf.math.log(hypothesis) + (1 - labels) * tf.math.log(1 - hypothesis))\r\n",
        "    with writer.as_default():\r\n",
        "        tf.summary.scalar('loss', cost, step=step)\r\n",
        "    return cost\r\n",
        "\r\n",
        "optimizer = tf.keras.optimizers.SGD(learning_rate=0.1)\r\n",
        "\r\n",
        "def accuracy_fn(hypothesis, labels):\r\n",
        "    predicted = tf.cast(hypothesis > 0.5, dtype=tf.float32)\r\n",
        "    accuracy = tf.reduce_mean(tf.cast(tf.equal(predicted, labels), dtype=tf.float32))\r\n",
        "    return accuracy\r\n",
        "\r\n",
        "def grad(hypothesis, features, labels, step):\r\n",
        "    with tf.GradientTape() as tape:\r\n",
        "        loss_value = loss_fn(neural_net(features, step),labels)\r\n",
        "    return tape.gradient(loss_value, [W1, W2, W3, W4, b1, b2, b3, b4])"
      ],
      "execution_count": 5,
      "outputs": []
    },
    {
      "cell_type": "markdown",
      "metadata": {
        "id": "KWcYQVBdtg76"
      },
      "source": [
        "**train and validation**"
      ]
    },
    {
      "cell_type": "code",
      "metadata": {
        "colab": {
          "base_uri": "https://localhost:8080/"
        },
        "id": "JfXKtl3Ktje-",
        "outputId": "e4c5f964-c90d-41d3-e4d9-11ce7e7ac9a5"
      },
      "source": [
        "EPOCHS = 3000\r\n",
        "\r\n",
        "for step in range(EPOCHS):    \r\n",
        "    for features, labels  in dataset:\r\n",
        "        features, labels = preprocess_data(features, labels)\r\n",
        "        grads = grad(neural_net(features, step), features, labels, step)\r\n",
        "        optimizer.apply_gradients(grads_and_vars=zip(grads,[W1, W2, W3, W4, b1, b2, b3, b4]))\r\n",
        "        if step % 50 == 0:\r\n",
        "            loss_value = loss_fn(neural_net(features, step),labels)\r\n",
        "            print(\"Iter: {}, Loss: {:.4f}\".format(step, loss_value))\r\n",
        "x_data, y_data = preprocess_data(x_data, y_data)\r\n",
        "test_acc = accuracy_fn(neural_net(x_data, step),y_data)\r\n",
        "print(\"Testset Accuracy: {:.4f}\".format(test_acc))"
      ],
      "execution_count": null,
      "outputs": [
        {
          "output_type": "stream",
          "text": [
            "Iter: 0, Loss: 0.9517\n",
            "Iter: 50, Loss: 0.6936\n",
            "Iter: 100, Loss: 0.6923\n",
            "Iter: 150, Loss: 0.6912\n",
            "Iter: 200, Loss: 0.6901\n",
            "Iter: 250, Loss: 0.6890\n",
            "Iter: 300, Loss: 0.6879\n",
            "Iter: 350, Loss: 0.6867\n",
            "Iter: 400, Loss: 0.6855\n",
            "Iter: 450, Loss: 0.6842\n",
            "Iter: 500, Loss: 0.6827\n",
            "Iter: 550, Loss: 0.6811\n",
            "Iter: 600, Loss: 0.6793\n",
            "Iter: 650, Loss: 0.6772\n",
            "Iter: 700, Loss: 0.6749\n",
            "Iter: 750, Loss: 0.6722\n",
            "Iter: 800, Loss: 0.6690\n",
            "Iter: 850, Loss: 0.6654\n",
            "Iter: 900, Loss: 0.6611\n",
            "Iter: 950, Loss: 0.6561\n",
            "Iter: 1000, Loss: 0.6502\n",
            "Iter: 1050, Loss: 0.6432\n",
            "Iter: 1100, Loss: 0.6349\n",
            "Iter: 1150, Loss: 0.6251\n",
            "Iter: 1200, Loss: 0.6134\n",
            "Iter: 1250, Loss: 0.5992\n",
            "Iter: 1300, Loss: 0.5821\n",
            "Iter: 1350, Loss: 0.5612\n",
            "Iter: 1400, Loss: 0.5357\n",
            "Iter: 1450, Loss: 0.5047\n",
            "Iter: 1500, Loss: 0.4677\n",
            "Iter: 1550, Loss: 0.4248\n",
            "Iter: 1600, Loss: 0.3774\n",
            "Iter: 1650, Loss: 0.3281\n",
            "Iter: 1700, Loss: 0.2798\n",
            "Iter: 1750, Loss: 0.2356\n",
            "Iter: 1800, Loss: 0.1971\n",
            "Iter: 1850, Loss: 0.1649\n",
            "Iter: 1900, Loss: 0.1385\n",
            "Iter: 1950, Loss: 0.1173\n",
            "Iter: 2000, Loss: 0.1003\n",
            "Iter: 2050, Loss: 0.0865\n",
            "Iter: 2100, Loss: 0.0754\n",
            "Iter: 2150, Loss: 0.0663\n",
            "Iter: 2200, Loss: 0.0588\n"
          ],
          "name": "stdout"
        }
      ]
    }
  ]
}