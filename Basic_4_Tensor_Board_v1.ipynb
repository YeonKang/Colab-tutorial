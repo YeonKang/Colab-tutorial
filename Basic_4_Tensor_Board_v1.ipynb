{
  "nbformat": 4,
  "nbformat_minor": 0,
  "metadata": {
    "colab": {
      "name": "Basic - 4. Tensor Board_v1.ipynb",
      "provenance": [],
      "collapsed_sections": [],
      "authorship_tag": "ABX9TyOsDMmp5ApmanbKaHHeoDL7"
    },
    "kernelspec": {
      "name": "python3",
      "display_name": "Python 3"
    }
  },
  "cells": [
    {
      "cell_type": "code",
      "metadata": {
        "id": "pO6ejtFuw8p-",
        "colab_type": "code",
        "colab": {
          "base_uri": "https://localhost:8080/",
          "height": 71
        },
        "outputId": "61681bd2-0da1-41e6-ceef-9eec977ff334"
      },
      "source": [
        "#import tensorflow version 1.x\n",
        "import tensorflow.compat.v1 as tf\n",
        "tf.disable_eager_execution()\n",
        "#if you want to use tensorflow version 2, use below\n",
        "#import tensorflow as tf\n",
        "\n",
        "#tf.Variable(initial_value, trainable, name) -> random_normal, truncated_nomal, random_uniform, constant, zeros, ones\n",
        "#define linear regression model\n",
        "W = tf.Variable(tf.random_normal(shape=[1]), name = \"W\")\n",
        "b = tf.Variable(tf.random_normal(shape=[1]), name = \"b\")\n",
        "x = tf.placeholder(tf.float32, name = \"x\")\n",
        "linear_model = W*x + b\n",
        "\n",
        "#define placeholder\n",
        "y = tf.placeholder(tf.float32, name = \"y\")\n",
        "\n",
        "#define loss function\n",
        "loss = tf.reduce_mean(tf.square(linear_model-y)) #MSE loss function mean{(y'-y)^2}\n",
        "\n",
        "#set scalar value for tensorboard -> visualization data\n",
        "tf.summary.scalar('loss', loss)\n",
        "\n",
        "#define gradien descent optimizer\n",
        "optimizer = tf.train.GradientDescentOptimizer(0.01) #set learning rate = 0.01\n",
        "train_step = optimizer.minimize(loss)\n",
        "\n",
        "#set input and output data\n",
        "x_train = [1,2,3,4]\n",
        "y_train = [2,4,6,8]\n",
        "\n",
        "#open session and initialize parameter W, b\n",
        "sess = tf.Session()\n",
        "sess.run(tf.global_variables_initializer())\n",
        "\n",
        "#merge all tensorboard summary data\n",
        "#merged = tf.summary.merge_all()\n",
        "\n",
        "#set folder to save merged tensorboard summary data ('./tensorboard_log')\n",
        "tensorboard_writer = tf.summary.FileWriter('./tensorboard_log', sess.graph)\n",
        "\n",
        "#train 1000 times\n",
        "for i in range(1000):\n",
        "  sess.run(train_step, feed_dict={x:x_train, y:y_train})\n",
        "  #save tensorboard data for each step\n",
        "  #summary = sess.run(merged, feed_dict={x: x_train, y: y_train})\n",
        "  #tensorboard_writer.add_summary(summary, i)\n",
        "\n",
        "#Check W and b value\n",
        "print(\"W: \",sess.run(W))\n",
        "print(\"b: \",sess.run(b))\n",
        "\n",
        "#set x_test value\n",
        "x_test = [3.5, 5, 5.5, 6]\n",
        "\n",
        "#see the result\n",
        "print(sess.run(linear_model, feed_dict={x:x_test}))\n",
        "\n",
        "#close session\n",
        "sess.close()"
      ],
      "execution_count": null,
      "outputs": [
        {
          "output_type": "stream",
          "text": [
            "W:  [1.9789859]\n",
            "b:  [0.06178388]\n",
            "[ 6.9882345  9.956714  10.946206  11.935699 ]\n"
          ],
          "name": "stdout"
        }
      ]
    },
    {
      "cell_type": "markdown",
      "metadata": {
        "id": "LF5wpF5HGO4R",
        "colab_type": "text"
      },
      "source": [
        "Open a terminal window and enter the code below"
      ]
    },
    {
      "cell_type": "code",
      "metadata": {
        "id": "I6aTp9Ri0IR7",
        "colab_type": "code",
        "colab": {}
      },
      "source": [
        "#tensorboard --logdir=path\\to\\log-directory\n",
        "tensorboard --logdir=/tmp/tensorflowlogs"
      ],
      "execution_count": null,
      "outputs": []
    },
    {
      "cell_type": "markdown",
      "metadata": {
        "id": "RqnlhibyF48C",
        "colab_type": "text"
      },
      "source": [
        "Type \"http://localhost:6006\" in the address bar of your chrome-based browser"
      ]
    }
  ]
}