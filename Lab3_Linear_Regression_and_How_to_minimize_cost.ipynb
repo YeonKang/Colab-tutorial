{
  "nbformat": 4,
  "nbformat_minor": 0,
  "metadata": {
    "colab": {
      "name": "Lab3_Linear_Regression_and_How_to_minimize_cost.ipynb",
      "provenance": [],
      "authorship_tag": "ABX9TyM5Dfh0Wjo9ip1EWaHj6HKT",
      "include_colab_link": true
    },
    "kernelspec": {
      "name": "python3",
      "display_name": "Python 3"
    }
  },
  "cells": [
    {
      "cell_type": "markdown",
      "metadata": {
        "id": "view-in-github",
        "colab_type": "text"
      },
      "source": [
        "<a href=\"https://colab.research.google.com/github/YeonKang/Tensorflow-with-Colab/blob/master/Lab3_Linear_Resgrssion_and_How_to_minimize_cost.ipynb\" target=\"_parent\"><img src=\"https://colab.research.google.com/assets/colab-badge.svg\" alt=\"Open In Colab\"/></a>"
      ]
    },
    {
      "cell_type": "code",
      "metadata": {
        "colab": {
          "base_uri": "https://localhost:8080/"
        },
        "id": "mZAbvlPYnF6o",
        "outputId": "87ca28e6-83fd-498e-b117-74101c36a5b8"
      },
      "source": [
        "import tensorflow as tf\r\n",
        "import numpy as np\r\n",
        "\r\n",
        "print(tf.__version__)"
      ],
      "execution_count": 1,
      "outputs": [
        {
          "output_type": "stream",
          "text": [
            "2.4.0\n"
          ],
          "name": "stdout"
        }
      ]
    },
    {
      "cell_type": "markdown",
      "metadata": {
        "id": "P6ufB0aeqtG1"
      },
      "source": [
        "**Hypothesis and Cost**"
      ]
    },
    {
      "cell_type": "markdown",
      "metadata": {
        "id": "9EbVxbHHt_f8"
      },
      "source": [
        "$H(x)=Wx+b$, $Cost(W,b)=\\frac{1}{m}\\Sigma^m_{i=1}(Wx_i-y_i)^2$"
      ]
    },
    {
      "cell_type": "markdown",
      "metadata": {
        "id": "5K4dPm3jrPM8"
      },
      "source": [
        "**Simplified hypothesis** "
      ]
    },
    {
      "cell_type": "markdown",
      "metadata": {
        "id": "VN-PMsnzuC0b"
      },
      "source": [
        "$H(x)=Wx$, $Cost(W)=\\frac{1}{m}\\Sigma^m_{i=1}(Wx_i-y_i)^2$"
      ]
    },
    {
      "cell_type": "markdown",
      "metadata": {
        "id": "6kC-KB7F5Q43"
      },
      "source": [
        "**Cost function in pure Python**"
      ]
    },
    {
      "cell_type": "code",
      "metadata": {
        "colab": {
          "base_uri": "https://localhost:8080/"
        },
        "id": "TVe-GcpRrJQs",
        "outputId": "c1186916-7573-4245-f747-3cd88cdd1fd8"
      },
      "source": [
        "X = np.array([1, 2, 3])\r\n",
        "Y = np.array([1, 2, 3])\r\n",
        "\r\n",
        "def cost_func(W, X, Y):\r\n",
        "    c = 0\r\n",
        "    for i in range(len(X)):\r\n",
        "        c += (W * X[i] - Y[i]) ** 2\r\n",
        "    return c / len(X)\r\n",
        "\r\n",
        "for feed_W in np.linspace(-3, 5, num=15):\r\n",
        "    curr_cost = cost_func(feed_W, X, Y)\r\n",
        "    print(\"{:6.3f} | {:10.5f}\".format(feed_W, curr_cost))"
      ],
      "execution_count": 7,
      "outputs": [
        {
          "output_type": "stream",
          "text": [
            "-3.000 |   74.66667\n",
            "-2.429 |   54.85714\n",
            "-1.857 |   38.09524\n",
            "-1.286 |   24.38095\n",
            "-0.714 |   13.71429\n",
            "-0.143 |    6.09524\n",
            " 0.429 |    1.52381\n",
            " 1.000 |    0.00000\n",
            " 1.571 |    1.52381\n",
            " 2.143 |    6.09524\n",
            " 2.714 |   13.71429\n",
            " 3.286 |   24.38095\n",
            " 3.857 |   38.09524\n",
            " 4.429 |   54.85714\n",
            " 5.000 |   74.66667\n"
          ],
          "name": "stdout"
        }
      ]
    },
    {
      "cell_type": "markdown",
      "metadata": {
        "id": "W83TjpfJ5Yuw"
      },
      "source": [
        "**Cost function in TensorFlow**"
      ]
    },
    {
      "cell_type": "code",
      "metadata": {
        "colab": {
          "base_uri": "https://localhost:8080/"
        },
        "id": "ktN83ZuR5f6E",
        "outputId": "69aa135a-d0dc-4a09-b838-353b40100858"
      },
      "source": [
        "X = np.array([1, 2, 3])\r\n",
        "Y = np.array([1, 2, 3])\r\n",
        "\r\n",
        "def cost_func(W, X, Y):\r\n",
        "  hypothesis = X * W\r\n",
        "  return tf.reduce_mean(tf.square(hypothesis - Y))\r\n",
        "\r\n",
        "W_values = np.linspace(-3, 5, num=15)\r\n",
        "cost_values = []\r\n",
        "\r\n",
        "for feed_W in W_values:\r\n",
        "    curr_cost = cost_func(feed_W, X, Y)\r\n",
        "    cost_values.append(curr_cost)\r\n",
        "    print(\"{:6.3f} | {:10.5f}\".format(feed_W, curr_cost))"
      ],
      "execution_count": 10,
      "outputs": [
        {
          "output_type": "stream",
          "text": [
            "-3.000 |   74.66667\n",
            "-2.429 |   54.85714\n",
            "-1.857 |   38.09524\n",
            "-1.286 |   24.38095\n",
            "-0.714 |   13.71429\n",
            "-0.143 |    6.09524\n",
            " 0.429 |    1.52381\n",
            " 1.000 |    0.00000\n",
            " 1.571 |    1.52381\n",
            " 2.143 |    6.09524\n",
            " 2.714 |   13.71429\n",
            " 3.286 |   24.38095\n",
            " 3.857 |   38.09524\n",
            " 4.429 |   54.85714\n",
            " 5.000 |   74.66667\n"
          ],
          "name": "stdout"
        }
      ]
    },
    {
      "cell_type": "code",
      "metadata": {
        "colab": {
          "base_uri": "https://localhost:8080/",
          "height": 388
        },
        "id": "tSQ1YFl96sfW",
        "outputId": "d1d8d9c9-7e63-444a-e89b-7fd244264106"
      },
      "source": [
        "import matplotlib.pyplot as plt\r\n",
        "plt.rcParams[\"figure.figsize\"] = (8,6)\r\n",
        "plt.plot(W_values, cost_values, \"b\")\r\n",
        "plt.ylabel('Cost(W)')\r\n",
        "plt.xlabel('W')\r\n",
        "plt.show()"
      ],
      "execution_count": 9,
      "outputs": [
        {
          "output_type": "display_data",
          "data": {
            "image/png": "[encoded data removed]",
            "text/plain": [
              "<Figure size 576x432 with 1 Axes>"
            ]
          },
          "metadata": {
            "tags": [],
            "needs_background": "light"
          }
        }
      ]
    },
    {
      "cell_type": "markdown",
      "metadata": {
        "id": "STvmJUQq9Fms"
      },
      "source": [
        "**Gradient descent formal definition**"
      ]
    },
    {
      "cell_type": "markdown",
      "metadata": {
        "id": "ZvPeGrYd9R8M"
      },
      "source": [
        "$cost(W)={1\\over m}\\Sigma^m_{i=1}(Wx_i-y_i)^2$"
      ]
    },
    {
      "cell_type": "markdown",
      "metadata": {
        "id": "Qg9_4X7mI9m7"
      },
      "source": [
        "$W:=W-\\alpha{1\\over m}\\Sigma^m_{i=1}(W(x_i)-y_i)x_i$ ($\\alpha$ = learning rate)"
      ]
    },
    {
      "cell_type": "code",
      "metadata": {
        "id": "OqY9epGdJVaI"
      },
      "source": [
        "tf.random.set_seed(0)  #for reproducibility"
      ],
      "execution_count": 2,
      "outputs": []
    },
    {
      "cell_type": "code",
      "metadata": {
        "colab": {
          "base_uri": "https://localhost:8080/"
        },
        "id": "C2NBoxSXJaJq",
        "outputId": "af1dc8b0-3342-4cd5-a1c8-af930cbd502c"
      },
      "source": [
        "x_data = [1., 2., 3., 4.]\r\n",
        "y_data = [1., 3., 5., 7.]\r\n",
        "\r\n",
        "W = tf.Variable(tf.random.normal((1,), -100., 100.))\r\n",
        "\r\n",
        "for step in range(300):\r\n",
        "    hypothesis = W * X\r\n",
        "    cost = tf.reduce_mean(tf.square(hypothesis - Y))\r\n",
        "\r\n",
        "    alpha = 0.01\r\n",
        "    gradient = tf.reduce_mean(tf.multiply(tf.multiply(W, X) - Y, X))\r\n",
        "    descent = W - tf.multiply(alpha, gradient)\r\n",
        "    W.assign(descent)\r\n",
        "    \r\n",
        "    if step % 10 == 0:\r\n",
        "        print('{:5} | {:10.4f} | {:10.6f}'.format(\r\n",
        "            step, cost.numpy(), W.numpy()[0]))"
      ],
      "execution_count": 11,
      "outputs": [
        {
          "output_type": "stream",
          "text": [
            "    0 |   150.9833 |   6.422578\n",
            "   10 |    58.0530 |   4.362432\n",
            "   20 |    22.3213 |   3.084977\n",
            "   30 |     8.5825 |   2.292853\n",
            "   40 |     3.3000 |   1.801672\n",
            "   50 |     1.2688 |   1.497101\n",
            "   60 |     0.4879 |   1.308242\n",
            "   70 |     0.1876 |   1.191135\n",
            "   80 |     0.0721 |   1.118519\n",
            "   90 |     0.0277 |   1.073491\n",
            "  100 |     0.0107 |   1.045570\n",
            "  110 |     0.0041 |   1.028257\n",
            "  120 |     0.0016 |   1.017522\n",
            "  130 |     0.0006 |   1.010865\n",
            "  140 |     0.0002 |   1.006737\n",
            "  150 |     0.0001 |   1.004178\n",
            "  160 |     0.0000 |   1.002591\n",
            "  170 |     0.0000 |   1.001606\n",
            "  180 |     0.0000 |   1.000996\n",
            "  190 |     0.0000 |   1.000618\n",
            "  200 |     0.0000 |   1.000383\n",
            "  210 |     0.0000 |   1.000237\n",
            "  220 |     0.0000 |   1.000147\n",
            "  230 |     0.0000 |   1.000091\n",
            "  240 |     0.0000 |   1.000057\n",
            "  250 |     0.0000 |   1.000035\n",
            "  260 |     0.0000 |   1.000022\n",
            "  270 |     0.0000 |   1.000014\n",
            "  280 |     0.0000 |   1.000008\n",
            "  290 |     0.0000 |   1.000005\n"
          ],
          "name": "stdout"
        }
      ]
    },
    {
      "cell_type": "code",
      "metadata": {
        "colab": {
          "base_uri": "https://localhost:8080/"
        },
        "id": "jgGvWCXMJmNx",
        "outputId": "99189120-8ee3-4e5f-8d13-68cbaa030318"
      },
      "source": [
        "print(5.0 * W)\r\n",
        "print(2.5 * W)"
      ],
      "execution_count": 12,
      "outputs": [
        {
          "output_type": "stream",
          "text": [
            "tf.Tensor([5.000017], shape=(1,), dtype=float32)\n",
            "tf.Tensor([2.5000086], shape=(1,), dtype=float32)\n"
          ],
          "name": "stdout"
        }
      ]
    },
    {
      "cell_type": "code",
      "metadata": {
        "colab": {
          "base_uri": "https://localhost:8080/"
        },
        "id": "-wzKuFqyJqE4",
        "outputId": "c81d8f0d-5898-4bd4-d02d-3a89e8d01e45"
      },
      "source": [
        "x_data = [1., 2., 3., 4.]\r\n",
        "y_data = [1., 3., 5., 7.]\r\n",
        "\r\n",
        "W = tf.Variable([5.0])\r\n",
        "\r\n",
        "for step in range(300):\r\n",
        "    hypothesis = W * X\r\n",
        "    cost = tf.reduce_mean(tf.square(hypothesis - Y))\r\n",
        "\r\n",
        "    alpha = 0.01\r\n",
        "    gradient = tf.reduce_mean(tf.multiply(tf.multiply(W, X) - Y, X))\r\n",
        "    descent = W - tf.multiply(alpha, gradient)\r\n",
        "    W.assign(descent)\r\n",
        "    \r\n",
        "    if step % 10 == 0:\r\n",
        "        print('{:5} | {:10.4f} | {:10.6f}'.format(\r\n",
        "            step, cost.numpy(), W.numpy()[0]))"
      ],
      "execution_count": 14,
      "outputs": [
        {
          "output_type": "stream",
          "text": [
            "    0 |    74.6667 |   4.813334\n",
            "   10 |    28.7093 |   3.364572\n",
            "   20 |    11.0387 |   2.466224\n",
            "   30 |     4.2444 |   1.909177\n",
            "   40 |     1.6320 |   1.563762\n",
            "   50 |     0.6275 |   1.349578\n",
            "   60 |     0.2413 |   1.216766\n",
            "   70 |     0.0928 |   1.134412\n",
            "   80 |     0.0357 |   1.083346\n",
            "   90 |     0.0137 |   1.051681\n",
            "  100 |     0.0053 |   1.032047\n",
            "  110 |     0.0020 |   1.019871\n",
            "  120 |     0.0008 |   1.012322\n",
            "  130 |     0.0003 |   1.007641\n",
            "  140 |     0.0001 |   1.004738\n",
            "  150 |     0.0000 |   1.002938\n",
            "  160 |     0.0000 |   1.001822\n",
            "  170 |     0.0000 |   1.001130\n",
            "  180 |     0.0000 |   1.000700\n",
            "  190 |     0.0000 |   1.000434\n",
            "  200 |     0.0000 |   1.000269\n",
            "  210 |     0.0000 |   1.000167\n",
            "  220 |     0.0000 |   1.000103\n",
            "  230 |     0.0000 |   1.000064\n",
            "  240 |     0.0000 |   1.000040\n",
            "  250 |     0.0000 |   1.000025\n",
            "  260 |     0.0000 |   1.000015\n",
            "  270 |     0.0000 |   1.000009\n",
            "  280 |     0.0000 |   1.000006\n",
            "  290 |     0.0000 |   1.000004\n"
          ],
          "name": "stdout"
        }
      ]
    }
  ]
}
