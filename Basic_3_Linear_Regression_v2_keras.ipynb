{
  "nbformat": 4,
  "nbformat_minor": 0,
  "metadata": {
    "colab": {
      "name": "Basic_3_Linear_Regression_v2_keras.ipynb",
      "provenance": [],
      "authorship_tag": "ABX9TyNIao0srIRDf1ZJ+2dgRJwX"
    },
    "kernelspec": {
      "name": "python3",
      "display_name": "Python 3"
    }
  },
  "cells": [
    {
      "cell_type": "code",
      "metadata": {
        "id": "WfEilm80PCSl",
        "colab_type": "code",
        "colab": {}
      },
      "source": [
        "import tensorflow as tf\n",
        "from tensorflow import keras\n",
        "\n",
        "#define linear regression model using tf.keras.Model\n",
        "class LinearRegression(tf.keras.Model):\n",
        "  def __init__(self):\n",
        "    super(LinearRegression, self).__init__()\n",
        "    self.linear_layer = tf.keras.layers.Dense(1, activation=None)\n",
        "\n",
        "  def call(self, x):\n",
        "    y_pred = self.linear_layer(x)\n",
        "\n",
        "    return y_pred\n",
        "\n",
        "#define loss function\n",
        "@tf.function\n",
        "def mse_loss(y_pred, y):\n",
        "  return tf.reduce_mean(tf.square(y_pred - y)) #MSE loss function => mean{(y'-y)^2}\n",
        "\n",
        "#define gradient descent optimizer\n",
        "oprimizer = tf.optimizers.SGD(0.01)\n",
        "\n",
        "#define folder address to save tensorboard summary information\n",
        "summary_writer = tf.summary.create_file_writer('./tensorboard_log')\n",
        "\n",
        "#define function for optimization\n"
      ],
      "execution_count": null,
      "outputs": []
    }
  ]
}