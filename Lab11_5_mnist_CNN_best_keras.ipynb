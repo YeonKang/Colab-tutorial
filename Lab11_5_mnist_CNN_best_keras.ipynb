{
  "nbformat": 4,
  "nbformat_minor": 0,
  "metadata": {
    "colab": {
      "name": "Lab11_5_mnist_CNN_best_keras.ipynb",
      "provenance": [],
      "include_colab_link": true
    },
    "kernelspec": {
      "name": "python3",
      "display_name": "Python 3"
    },
    "language_info": {
      "name": "python"
    },
    "accelerator": "GPU"
  },
  "cells": [
    {
      "cell_type": "markdown",
      "metadata": {
        "id": "view-in-github",
        "colab_type": "text"
      },
      "source": [
        "<a href=\"https://colab.research.google.com/github/YeonKang/Tensorflow-with-Colab/blob/master/Lab11_5_mnist_CNN_best_keras.ipynb\" target=\"_parent\"><img src=\"https://colab.research.google.com/assets/colab-badge.svg\" alt=\"Open In Colab\"/></a>"
      ]
    },
    {
      "cell_type": "code",
      "metadata": {
        "id": "3QE266QGSt4S"
      },
      "source": [
        "from __future__ import absolute_import\n",
        "from __future__ import division\n",
        "from __future__ import print_function"
      ],
      "execution_count": 1,
      "outputs": []
    },
    {
      "cell_type": "markdown",
      "metadata": {
        "id": "x8wMRQiuViCX"
      },
      "source": [
        "**Importing Libraries**"
      ]
    },
    {
      "cell_type": "code",
      "metadata": {
        "id": "o_0uxtOrVk1s",
        "outputId": "27a3b4f1-0bf3-4a24-e57c-71b62e937489",
        "colab": {
          "base_uri": "https://localhost:8080/"
        }
      },
      "source": [
        "import tensorflow as tf\n",
        "from tensorflow import keras\n",
        "from tensorflow.keras.utils import to_categorical\n",
        "import numpy as np\n",
        "import matplotlib.pyplot as plt\n",
        "import os\n",
        "from scipy import ndimage\n",
        "\n",
        "print(tf.__version__)\n",
        "print(keras.__version__)"
      ],
      "execution_count": 2,
      "outputs": [
        {
          "output_type": "stream",
          "text": [
            "2.4.1\n",
            "2.4.0\n"
          ],
          "name": "stdout"
        }
      ]
    },
    {
      "cell_type": "markdown",
      "metadata": {
        "id": "pdejiBxPVli0"
      },
      "source": [
        "**Hyper Parameters**"
      ]
    },
    {
      "cell_type": "code",
      "metadata": {
        "id": "_5rD1VrGVk6K"
      },
      "source": [
        "learning_rate = 0.001\n",
        "training_epochs = 15\n",
        "batch_size = 100\n",
        "\n",
        "tf.random.set_seed(777)"
      ],
      "execution_count": 3,
      "outputs": []
    },
    {
      "cell_type": "markdown",
      "metadata": {
        "id": "tydH3W_3VoE_"
      },
      "source": [
        "**Creating a Checkpoint Directory**"
      ]
    },
    {
      "cell_type": "code",
      "metadata": {
        "id": "sQI1pPFsVpiA"
      },
      "source": [
        "cur_dir = os.getcwd()\n",
        "ckpt_dir_name = 'checkpoints'\n",
        "model_dir_name = 'minst_cnn_best'\n",
        "\n",
        "checkpoint_dir = os.path.join(cur_dir, ckpt_dir_name, model_dir_name)\n",
        "os.makedirs(checkpoint_dir, exist_ok=True)\n",
        "\n",
        "checkpoint_prefix = os.path.join(checkpoint_dir, model_dir_name)"
      ],
      "execution_count": 4,
      "outputs": []
    },
    {
      "cell_type": "markdown",
      "metadata": {
        "id": "gNzR9oS1VrJD"
      },
      "source": [
        "**MNIST/Fashion MNIST Data**"
      ]
    },
    {
      "cell_type": "code",
      "metadata": {
        "id": "o-fH4bFEVuOR"
      },
      "source": [
        "## MNIST Dataset #########################################################\n",
        "mnist = keras.datasets.mnist\n",
        "class_names = ['0', '1', '2', '3', '4', '5', '6', '7', '8', '9']\n",
        "##########################################################################\n",
        "\n",
        "## Fashion MNIST Dataset #################################################\n",
        "#mnist = keras.datasets.fashion_mnist\n",
        "#class_names = ['T-shirt/top', 'Trouser', 'Pullover', 'Dress', 'Coat', 'Sandal', 'Shirt', 'Sneaker', 'Bag', 'Ankle boot']\n",
        "##########################################################################"
      ],
      "execution_count": 5,
      "outputs": []
    },
    {
      "cell_type": "markdown",
      "metadata": {
        "id": "5o8Wr9MdVtft"
      },
      "source": [
        "**Data Augmentation**"
      ]
    },
    {
      "cell_type": "code",
      "metadata": {
        "id": "U81oPdIiVxVM"
      },
      "source": [
        "def data_augmentation(images, labels):\n",
        "    aug_images = []\n",
        "    aug_labels = []    \n",
        "    \n",
        "    for x, y in zip(images, labels):        \n",
        "        aug_images.append(x)\n",
        "        aug_labels.append(y)        \n",
        "        \n",
        "        bg_value = np.median(x)\n",
        "        \n",
        "        for _ in range(4):\n",
        "            angle = np.random.randint(-15, 15, 1)            \n",
        "            rot_img = ndimage.rotate(x, angle[0], reshape=False, cval=bg_value)\n",
        "            \n",
        "            shift = np.random.randint(-2, 2, 2)\n",
        "            shift_img = ndimage.shift(rot_img, shift, cval=bg_value)            \n",
        "            \n",
        "            aug_images.append(shift_img)\n",
        "            aug_labels.append(y)\n",
        "    aug_images = np.array(aug_images)\n",
        "    aug_labels = np.array(aug_labels)\n",
        "    return aug_images, aug_labels"
      ],
      "execution_count": 6,
      "outputs": []
    },
    {
      "cell_type": "markdown",
      "metadata": {
        "id": "LlbjsDYXVw7o"
      },
      "source": [
        "**Datasets**"
      ]
    },
    {
      "cell_type": "code",
      "metadata": {
        "id": "fNuzGKYpu3b8",
        "outputId": "69f77437-57c9-43e8-c25b-654525c64d4b",
        "colab": {
          "base_uri": "https://localhost:8080/"
        }
      },
      "source": [
        "(train_images, train_labels), (test_images, test_labels) = mnist.load_data()\n",
        "\n",
        "train_images, train_labels = data_augmentation(train_images, train_labels)\n",
        "    \n",
        "train_images = train_images.astype(np.float32) / 255.\n",
        "test_images = test_images.astype(np.float32) / 255.\n",
        "train_images = np.expand_dims(train_images, axis=-1)\n",
        "test_images = np.expand_dims(test_images, axis=-1)\n",
        "    \n",
        "train_labels = to_categorical(train_labels, 10)\n",
        "test_labels = to_categorical(test_labels, 10)    \n",
        "    \n",
        "train_dataset = tf.data.Dataset.from_tensor_slices((train_images, train_labels)).shuffle(\n",
        "                buffer_size=500000).batch(batch_size)\n",
        "test_dataset = tf.data.Dataset.from_tensor_slices((test_images, test_labels)).batch(batch_size)"
      ],
      "execution_count": 7,
      "outputs": [
        {
          "output_type": "stream",
          "text": [
            "Downloading data from https://storage.googleapis.com/tensorflow/tf-keras-datasets/mnist.npz\n",
            "11493376/11490434 [==============================] - 0s 0us/step\n"
          ],
          "name": "stdout"
        }
      ]
    },
    {
      "cell_type": "markdown",
      "metadata": {
        "id": "OGC5A2CLu55J"
      },
      "source": [
        "**Model Class**"
      ]
    },
    {
      "cell_type": "code",
      "metadata": {
        "id": "od6wtnGQu5if"
      },
      "source": [
        "class ConvBNRelu(tf.keras.Model):\n",
        "    def __init__(self, filters, kernel_size=3, strides=1, padding='SAME'):\n",
        "        super(ConvBNRelu, self).__init__()\n",
        "        self.conv = keras.layers.Conv2D(filters=filters, kernel_size=kernel_size, strides=strides, \n",
        "                                        padding=padding, kernel_initializer='glorot_normal')\n",
        "        self.batchnorm = tf.keras.layers.BatchNormalization()\n",
        "    def call(self, inputs, training=False):\n",
        "        layer = self.conv(inputs)\n",
        "        layer = self.batchnorm(layer)\n",
        "        layer = tf.nn.relu(layer)\n",
        "        return layer"
      ],
      "execution_count": 8,
      "outputs": []
    },
    {
      "cell_type": "code",
      "metadata": {
        "id": "Im6aXpoju-el"
      },
      "source": [
        "class DenseBNRelu(tf.keras.Model):\n",
        "    def __init__(self, units):\n",
        "        super(DenseBNRelu, self).__init__()\n",
        "        self.dense = keras.layers.Dense(units=units, kernel_initializer='glorot_normal')\n",
        "        self.batchnorm = tf.keras.layers.BatchNormalization()\n",
        "    def call(self, inputs, training=False):\n",
        "        layer = self.dense(inputs)\n",
        "        layer = self.batchnorm(layer)\n",
        "        layer = tf.nn.relu(layer)\n",
        "        return layer"
      ],
      "execution_count": 9,
      "outputs": []
    },
    {
      "cell_type": "code",
      "metadata": {
        "id": "1kK4oCV0vAc6"
      },
      "source": [
        "class MNISTModel(tf.keras.Model):\n",
        "    def __init__(self):\n",
        "        super(MNISTModel, self).__init__()\n",
        "        self.conv1 = ConvBNRelu(filters=32, kernel_size=[3, 3], padding='SAME')        \n",
        "        self.pool1 = keras.layers.MaxPool2D(padding='SAME')\n",
        "        self.conv2 = ConvBNRelu(filters=64, kernel_size=[3, 3], padding='SAME')\n",
        "        self.pool2 = keras.layers.MaxPool2D(padding='SAME')\n",
        "        self.conv3 = ConvBNRelu(filters=128, kernel_size=[3, 3], padding='SAME')\n",
        "        self.pool3 = keras.layers.MaxPool2D(padding='SAME')\n",
        "        self.pool3_flat = keras.layers.Flatten()\n",
        "        self.dense4 = DenseBNRelu(units=256)\n",
        "        self.drop4 = keras.layers.Dropout(rate=0.4)\n",
        "        self.dense5 = keras.layers.Dense(units=10, kernel_initializer='glorot_normal')\n",
        "    def call(self, inputs, training=False):\n",
        "        net = self.conv1(inputs)        \n",
        "        net = self.pool1(net)\n",
        "        net = self.conv2(net)\n",
        "        net = self.pool2(net)\n",
        "        net = self.conv3(net)\n",
        "        net = self.pool3(net)\n",
        "        net = self.pool3_flat(net)\n",
        "        net = self.dense4(net)\n",
        "        net = self.drop4(net)\n",
        "        net = self.dense5(net)\n",
        "        return net"
      ],
      "execution_count": 10,
      "outputs": []
    },
    {
      "cell_type": "code",
      "metadata": {
        "id": "ylHHHP06vCTs"
      },
      "source": [
        "models = []\n",
        "num_models = 5\n",
        "for m in range(num_models):\n",
        "    models.append(MNISTModel())"
      ],
      "execution_count": 11,
      "outputs": []
    },
    {
      "cell_type": "markdown",
      "metadata": {
        "id": "n3lKyYKTvFZF"
      },
      "source": [
        "**Loss Function**"
      ]
    },
    {
      "cell_type": "code",
      "metadata": {
        "id": "UaNZKsGsvHtN"
      },
      "source": [
        "def loss_fn(model, images, labels):\n",
        "    logits = model(images, training=True)\n",
        "    loss = tf.reduce_mean(tf.keras.losses.categorical_crossentropy(\n",
        "        y_pred=logits, y_true=labels, from_logits=True))    \n",
        "    return loss"
      ],
      "execution_count": 12,
      "outputs": []
    },
    {
      "cell_type": "markdown",
      "metadata": {
        "id": "Hm7v87C3vJuY"
      },
      "source": [
        "**Calculating Gradient**"
      ]
    },
    {
      "cell_type": "code",
      "metadata": {
        "id": "4VVoXlF6vLYL"
      },
      "source": [
        "def grad(model, images, labels):\n",
        "    with tf.GradientTape() as tape:\n",
        "        loss = loss_fn(model, images, labels)\n",
        "    return tape.gradient(loss, model.trainable_variables)"
      ],
      "execution_count": 13,
      "outputs": []
    },
    {
      "cell_type": "markdown",
      "metadata": {
        "id": "-ECrKZJNvMMG"
      },
      "source": [
        "**Caculating Model's Accuracy**"
      ]
    },
    {
      "cell_type": "code",
      "metadata": {
        "id": "-7P7uUgbvNx6"
      },
      "source": [
        "def evaluate(models, images, labels):\n",
        "    predictions = np.zeros_like(labels)\n",
        "    for model in models:\n",
        "        logits = model(images, training=False)\n",
        "        predictions += logits\n",
        "    correct_prediction = tf.equal(tf.argmax(predictions, 1), tf.argmax(labels, 1))\n",
        "    accuracy = tf.reduce_mean(tf.cast(correct_prediction, tf.float32))\n",
        "    return accuracy"
      ],
      "execution_count": 14,
      "outputs": []
    },
    {
      "cell_type": "markdown",
      "metadata": {
        "id": "490-H8T2vPAb"
      },
      "source": [
        "**Optimizer**"
      ]
    },
    {
      "cell_type": "code",
      "metadata": {
        "id": "lJ55yp7JvRDU"
      },
      "source": [
        "lr_decay = tf.keras.optimizers.schedules.ExponentialDecay(learning_rate,\n",
        "                                                          train_images.shape[0]/batch_size*num_models*5,\n",
        "                                                          0.5, staircase=True)\n",
        "optimizer = tf.keras.optimizers.Adam(learning_rate=lr_decay)"
      ],
      "execution_count": 15,
      "outputs": []
    },
    {
      "cell_type": "markdown",
      "metadata": {
        "id": "w3dDBE_ytXM0"
      },
      "source": [
        "**Creating Checkpoints**"
      ]
    },
    {
      "cell_type": "code",
      "metadata": {
        "id": "PB4_9UlGtbiw"
      },
      "source": [
        "checkpoints = []\n",
        "for m in range(num_models):\n",
        "    checkpoints.append(tf.train.Checkpoint(cnn=models[m]))"
      ],
      "execution_count": 16,
      "outputs": []
    },
    {
      "cell_type": "markdown",
      "metadata": {
        "id": "bOPQ2ljvtcGH"
      },
      "source": [
        "**Training**"
      ]
    },
    {
      "cell_type": "code",
      "metadata": {
        "id": "IYQBTvPJth3v",
        "outputId": "8f6241a0-9aeb-49a8-c4db-d5a85f0a5cf9",
        "colab": {
          "base_uri": "https://localhost:8080/"
        }
      },
      "source": [
        "print('Learning started. It takes sometime.')\n",
        "for epoch in range(training_epochs):\n",
        "    avg_loss = 0.\n",
        "    avg_train_acc = 0.\n",
        "    avg_test_acc = 0.\n",
        "    train_step = 0\n",
        "    test_step = 0        \n",
        "    for images, labels in train_dataset:\n",
        "        for model in models:\n",
        "            grads = grad(model, images, labels)                \n",
        "            optimizer.apply_gradients(zip(grads, model.trainable_variables))            \n",
        "            loss = loss_fn(model, images, labels)\n",
        "            avg_loss += loss / num_models\n",
        "        acc = evaluate(models, images, labels)\n",
        "        avg_train_acc += acc\n",
        "        train_step += 1\n",
        "    avg_loss = avg_loss / train_step\n",
        "    avg_train_acc = avg_train_acc / train_step\n",
        "    \n",
        "    for images, labels in test_dataset:        \n",
        "        acc = evaluate(models, images, labels)        \n",
        "        avg_test_acc += acc\n",
        "        test_step += 1    \n",
        "    avg_test_acc = avg_test_acc / test_step    \n",
        "\n",
        "    print('Epoch:', '{}'.format(epoch + 1), 'loss =', '{:.8f}'.format(avg_loss), \n",
        "          'train accuracy = ', '{:.4f}'.format(avg_train_acc), \n",
        "          'test accuracy = ', '{:.4f}'.format(avg_test_acc))\n",
        "    \n",
        "    \n",
        "    for idx, checkpoint in enumerate(checkpoints):\n",
        "        checkpoint.save(file_prefix=checkpoint_prefix+'-{}'.format(idx))\n",
        "\n",
        "print('Learning Finished!')"
      ],
      "execution_count": 18,
      "outputs": [
        {
          "output_type": "stream",
          "text": [
            "Learning started. It takes sometime.\n",
            "Epoch: 1 loss = 0.04755883 train accuracy =  0.9199 test accuracy =  0.9924\n",
            "Epoch: 2 loss = 0.02029783 train accuracy =  0.9964 test accuracy =  0.9944\n",
            "Epoch: 3 loss = 0.01446676 train accuracy =  0.9979 test accuracy =  0.9958\n",
            "Epoch: 4 loss = 0.01113953 train accuracy =  0.9986 test accuracy =  0.9954\n",
            "Epoch: 5 loss = 0.00890731 train accuracy =  0.9991 test accuracy =  0.9956\n",
            "Epoch: 6 loss = 0.00521817 train accuracy =  0.9996 test accuracy =  0.9963\n",
            "Epoch: 7 loss = 0.00374160 train accuracy =  0.9998 test accuracy =  0.9966\n",
            "Epoch: 8 loss = 0.00303842 train accuracy =  0.9999 test accuracy =  0.9966\n",
            "Epoch: 9 loss = 0.00268822 train accuracy =  0.9999 test accuracy =  0.9961\n",
            "Epoch: 10 loss = 0.00228454 train accuracy =  0.9999 test accuracy =  0.9964\n",
            "Epoch: 11 loss = 0.00151957 train accuracy =  1.0000 test accuracy =  0.9960\n",
            "Epoch: 12 loss = 0.00112062 train accuracy =  1.0000 test accuracy =  0.9963\n",
            "Epoch: 13 loss = 0.00096356 train accuracy =  1.0000 test accuracy =  0.9967\n",
            "Epoch: 14 loss = 0.00082702 train accuracy =  1.0000 test accuracy =  0.9969\n",
            "Epoch: 15 loss = 0.00080066 train accuracy =  1.0000 test accuracy =  0.9964\n",
            "Learning Finished!\n"
          ],
          "name": "stdout"
        }
      ]
    },
    {
      "cell_type": "code",
      "metadata": {
        "id": "xaiXw5cqtijf",
        "outputId": "0ed0800f-2971-4c81-edf0-cdb1d401db61",
        "colab": {
          "base_uri": "https://localhost:8080/"
        }
      },
      "source": [
        "models[0].summary()"
      ],
      "execution_count": 19,
      "outputs": [
        {
          "output_type": "stream",
          "text": [
            "Model: \"mnist_model\"\n",
            "_________________________________________________________________\n",
            "Layer (type)                 Output Shape              Param #   \n",
            "=================================================================\n",
            "conv_bn_relu (ConvBNRelu)    multiple                  448       \n",
            "_________________________________________________________________\n",
            "max_pooling2d (MaxPooling2D) multiple                  0         \n",
            "_________________________________________________________________\n",
            "conv_bn_relu_1 (ConvBNRelu)  multiple                  18752     \n",
            "_________________________________________________________________\n",
            "max_pooling2d_1 (MaxPooling2 multiple                  0         \n",
            "_________________________________________________________________\n",
            "conv_bn_relu_2 (ConvBNRelu)  multiple                  74368     \n",
            "_________________________________________________________________\n",
            "max_pooling2d_2 (MaxPooling2 multiple                  0         \n",
            "_________________________________________________________________\n",
            "flatten (Flatten)            multiple                  0         \n",
            "_________________________________________________________________\n",
            "dense_bn_relu (DenseBNRelu)  multiple                  525568    \n",
            "_________________________________________________________________\n",
            "dropout (Dropout)            multiple                  0         \n",
            "_________________________________________________________________\n",
            "dense_1 (Dense)              multiple                  2570      \n",
            "=================================================================\n",
            "Total params: 621,706\n",
            "Trainable params: 620,746\n",
            "Non-trainable params: 960\n",
            "_________________________________________________________________\n"
          ],
          "name": "stdout"
        }
      ]
    }
  ]
}