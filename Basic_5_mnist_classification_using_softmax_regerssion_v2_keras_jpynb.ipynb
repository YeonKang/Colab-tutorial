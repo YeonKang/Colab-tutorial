{
  "nbformat": 4,
  "nbformat_minor": 0,
  "metadata": {
    "colab": {
      "name": "Basic_5_mnist_classification_using_softmax_regerssion_v2_keras.jpynb",
      "provenance": [],
      "authorship_tag": "ABX9TyNPacYiZXQ0ZpB1XPncDDLF"
    },
    "kernelspec": {
      "name": "python3",
      "display_name": "Python 3"
    }
  },
  "cells": [
    {
      "cell_type": "code",
      "metadata": {
        "id": "tapb-OZ9Fcmt",
        "colab_type": "code",
        "colab": {
          "base_uri": "https://localhost:8080/",
          "height": 71
        },
        "outputId": "1ce7bce4-da0f-4786-9633-8fbacca7af6d"
      },
      "source": [
        "import tensorflow as tf\n",
        "\n",
        "#download MNIST data\n",
        "(x_train, y_train), (x_test, y_test) = tf.keras.datasets.mnist.load_data()\n",
        "#convert images into float32 data type\n",
        "x_train, x_test = x_train.astype('float32'), x_test.astype('float32')\n",
        "#flattening 28*28 image type into 784 dimensions\n",
        "x_train, x_test = x_train.reshape([-1, 784]), x_test.reshape([-1, 784])\n",
        "#normalizes values ​​between [0, 255] to values ​​between [0, 1]\n",
        "x_train, x_test = x_train / 255., x_test / 255.\n",
        "#apply one-hot encoding to label data\n",
        "y_train, y_test = tf.one_hot(y_train, depth=10), tf.one_hot(y_test, depth=10)\n",
        "\n",
        "#mix data using tf.data API and import it in batch form\n",
        "train_data = tf.data.Dataset.from_tensor_slices((x_train, y_train))\n",
        "train_data = train_data.repeat().shuffle(60000).batch(100)\n",
        "train_data_iter = iter(train_data)\n",
        "\n",
        "#define the Softmax Regression model using tf.keras.Model\n",
        "class SoftmaxRegression(tf.keras.Model):\n",
        "  def __init__(self):\n",
        "    super(SoftmaxRegression, self).__init__()\n",
        "    self.softmax_layer = tf.keras.layers.Dense(10,\n",
        "                                               activation=None,\n",
        "                                               kernel_initializer='zeros',\n",
        "                                               bias_initializer='zeros')\n",
        "\n",
        "  def call(self, x):\n",
        "    logits = self.softmax_layer(x)\n",
        "\n",
        "    return tf.nn.softmax(logits)\n",
        "\n",
        "#define cross-entropy loss function\n",
        "@tf.function\n",
        "def cross_entropy_loss(y_pred, y):\n",
        "  return tf.reduce_mean(-tf.reduce_sum(y * tf.math.log(y_pred), axis=[1]))\n",
        "\n",
        "#define the gradient descent optimizer for optimization\n",
        "optimizer = tf.optimizers.SGD(0.5)\n",
        "\n",
        "#define a function for optimization\n",
        "@tf.function\n",
        "def train_step(model, x, y):\n",
        "  with tf.GradientTape() as tape:\n",
        "    y_pred = model(x)\n",
        "    loss = cross_entropy_loss(y_pred, y)\n",
        "  gradients = tape.gradient(loss, model.trainable_variables)\n",
        "  optimizer.apply_gradients(zip(gradients, model.trainable_variables))\n",
        "\n",
        "#define a function that outputs the accuracy of the model\n",
        "@tf.function\n",
        "def compute_accuracy(y_pred, y):\n",
        "  correct_prediction = tf.equal(tf.argmax(y_pred,1), tf.argmax(y,1))\n",
        "  accuracy = tf.reduce_mean(tf.cast(correct_prediction, tf.float32))\n",
        "\n",
        "  return accuracy\n",
        "\n",
        "#declare the SoftmaxRegression model\n",
        "SoftmaxRegression_model = SoftmaxRegression()\n",
        "\n",
        "#optimization is performed with 1000 iterations\n",
        "for i in range(1000):\n",
        "  batch_xs, batch_ys = next(train_data_iter)\n",
        "  train_step(SoftmaxRegression_model, batch_xs, batch_ys)\n",
        "\n",
        "print(\"Accuracy: %f\" % compute_accuracy(SoftmaxRegression_model(x_test), y_test))"
      ],
      "execution_count": 1,
      "outputs": [
        {
          "output_type": "stream",
          "text": [
            "Downloading data from https://storage.googleapis.com/tensorflow/tf-keras-datasets/mnist.npz\n",
            "11493376/11490434 [==============================] - 0s 0us/step\n",
            "Accuracy: 0.914100\n"
          ],
          "name": "stdout"
        }
      ]
    }
  ]
}