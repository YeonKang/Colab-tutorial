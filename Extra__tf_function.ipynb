{
  "nbformat": 4,
  "nbformat_minor": 0,
  "metadata": {
    "colab": {
      "name": "Extra_@tf.function.ipynb",
      "provenance": [],
      "authorship_tag": "ABX9TyO2+5F0fzVXQ0CQg1YW5zwD",
      "include_colab_link": true
    },
    "kernelspec": {
      "name": "python3",
      "display_name": "Python 3"
    },
    "language_info": {
      "name": "python"
    }
  },
  "cells": [
    {
      "cell_type": "markdown",
      "metadata": {
        "id": "view-in-github",
        "colab_type": "text"
      },
      "source": [
        "<a href=\"https://colab.research.google.com/github/YeonKang/Tensorflow-with-Colab/blob/master/Extra__tf_function.ipynb\" target=\"_parent\"><img src=\"https://colab.research.google.com/assets/colab-badge.svg\" alt=\"Open In Colab\"/></a>"
      ]
    },
    {
      "cell_type": "code",
      "metadata": {
        "id": "cOsprSjiPmUD"
      },
      "source": [
        "import tensorflow as tf\n",
        "import traceback\n",
        "import contextlib\n",
        "\n",
        "#Helper function for error output\n",
        "@contextlib.contextmanager\n",
        "def assert_raises(error_class):\n",
        "  try:\n",
        "    yield\n",
        "  except error_class as e:\n",
        "    print('Throwing the expected exception \\n  {}:'.format(error_class))\n",
        "    traceback.print_exc(limit=2)\n",
        "  except Exception as e:\n",
        "    raise e\n",
        "  else:\n",
        "    raise Exception('Expected {}, but no error occurred'.format(\n",
        "        error_class))"
      ],
      "execution_count": 1,
      "outputs": []
    },
    {
      "cell_type": "markdown",
      "metadata": {
        "id": "ZIbTDteBxQiK"
      },
      "source": [
        "**calcultate gradient descent with tf.function**"
      ]
    },
    {
      "cell_type": "code",
      "metadata": {
        "colab": {
          "base_uri": "https://localhost:8080/"
        },
        "id": "2g4pw1AExXWT",
        "outputId": "bef063e4-3019-4b1e-ed94-7c5891ccbcc5"
      },
      "source": [
        "@tf.function\n",
        "def add(a, b):\n",
        "  return a + b\n",
        "\n",
        "add(tf.ones([2, 2]), tf.ones([2, 2]))  #  [[2., 2.], [2., 2.]]"
      ],
      "execution_count": 2,
      "outputs": [
        {
          "output_type": "execute_result",
          "data": {
            "text/plain": [
              "<tf.Tensor: shape=(2, 2), dtype=float32, numpy=\n",
              "array([[2., 2.],\n",
              "       [2., 2.]], dtype=float32)>"
            ]
          },
          "metadata": {
            "tags": []
          },
          "execution_count": 2
        }
      ]
    },
    {
      "cell_type": "code",
      "metadata": {
        "colab": {
          "base_uri": "https://localhost:8080/"
        },
        "id": "QU5a8dUGxZaP",
        "outputId": "040bcb73-bdd8-414a-8135-bb7bd60881cd"
      },
      "source": [
        "v = tf.Variable(1.0)\n",
        "with tf.GradientTape() as tape:\n",
        "  result = add(v, 1.0)\n",
        "tape.gradient(result, v)"
      ],
      "execution_count": 3,
      "outputs": [
        {
          "output_type": "execute_result",
          "data": {
            "text/plain": [
              "<tf.Tensor: shape=(), dtype=float32, numpy=1.0>"
            ]
          },
          "metadata": {
            "tags": []
          },
          "execution_count": 3
        }
      ]
    },
    {
      "cell_type": "markdown",
      "metadata": {
        "id": "WriWcDeAxbKV"
      },
      "source": [
        "**use tf.function in another function**"
      ]
    },
    {
      "cell_type": "code",
      "metadata": {
        "id": "yDjb_2CYxglc"
      },
      "source": [
        "@tf.function\n",
        "def dense_layer(x, w, b):\n",
        "  return add(tf.matmul(x, w), b)"
      ],
      "execution_count": 4,
      "outputs": []
    },
    {
      "cell_type": "code",
      "metadata": {
        "colab": {
          "base_uri": "https://localhost:8080/"
        },
        "id": "gf_Cagx1xk1n",
        "outputId": "c5e20eb0-0ea6-462c-a5f6-139bbbe16db2"
      },
      "source": [
        "dense_layer(tf.ones([3, 2]), tf.ones([2, 2]), tf.ones([2]))"
      ],
      "execution_count": 5,
      "outputs": [
        {
          "output_type": "execute_result",
          "data": {
            "text/plain": [
              "<tf.Tensor: shape=(3, 2), dtype=float32, numpy=\n",
              "array([[3., 3.],\n",
              "       [3., 3.],\n",
              "       [3., 3.]], dtype=float32)>"
            ]
          },
          "metadata": {
            "tags": []
          },
          "execution_count": 5
        }
      ]
    },
    {
      "cell_type": "markdown",
      "metadata": {
        "id": "Z6suR0ohUAjl"
      },
      "source": [
        "**Compare tf.function and eager execution for a large amount of computation**"
      ]
    },
    {
      "cell_type": "code",
      "metadata": {
        "colab": {
          "base_uri": "https://localhost:8080/"
        },
        "id": "SSICjkOPUL5S",
        "outputId": "d9be94b8-ca2e-488d-f597-c547a002fb74"
      },
      "source": [
        "import timeit\n",
        "conv_layer = tf.keras.layers.Conv2D(100, 3)\n",
        "\n",
        "@tf.function\n",
        "def conv_fn(image):\n",
        "  return conv_layer(image)\n",
        "\n",
        "image = tf.zeros([1, 200, 200, 100])\n",
        "\n",
        "conv_layer(image); conv_fn(image)\n",
        "print(\"tf.function convolution:\", timeit.timeit(lambda: conv_fn(image), number=10))\n",
        "print(\"eager execution convolution:\", timeit.timeit(lambda: conv_layer(image), number=10))\n",
        "print(\"There is no significant difference in the speed of the convolution operation.\")"
      ],
      "execution_count": 6,
      "outputs": [
        {
          "output_type": "stream",
          "text": [
            "tf.function convolution: 1.3088361030000328\n",
            "eager execution convolution: 1.3439397289999988\n",
            "There is no significant difference in the speed of the convolution operation.\n"
          ],
          "name": "stdout"
        }
      ]
    },
    {
      "cell_type": "markdown",
      "metadata": {
        "id": "JdIcGAwHeT2f"
      },
      "source": [
        "**Tracing with tf.function**"
      ]
    },
    {
      "cell_type": "code",
      "metadata": {
        "id": "NyeTHALAeZd-",
        "colab": {
          "base_uri": "https://localhost:8080/"
        },
        "outputId": "098fa5ec-3b23-45f0-dbbb-74648da450be"
      },
      "source": [
        "@tf.function\n",
        "def double(a):\n",
        "  print(\"Tracing:\", a)\n",
        "  return a + a\n",
        "\n",
        "print(double(tf.constant(1)))\n",
        "print()\n",
        "print(double(tf.constant(1.1)))\n",
        "print()\n",
        "print(double(tf.constant(\"a\")))\n",
        "print()"
      ],
      "execution_count": 7,
      "outputs": [
        {
          "output_type": "stream",
          "text": [
            "Tracing: Tensor(\"a:0\", shape=(), dtype=int32)\n",
            "tf.Tensor(2, shape=(), dtype=int32)\n",
            "\n",
            "Tracing: Tensor(\"a:0\", shape=(), dtype=float32)\n",
            "tf.Tensor(2.2, shape=(), dtype=float32)\n",
            "\n",
            "Tracing: Tensor(\"a:0\", shape=(), dtype=string)\n",
            "tf.Tensor(b'aa', shape=(), dtype=string)\n",
            "\n"
          ],
          "name": "stdout"
        }
      ]
    },
    {
      "cell_type": "code",
      "metadata": {
        "id": "2J9wvGeZedVH",
        "colab": {
          "base_uri": "https://localhost:8080/"
        },
        "outputId": "3006b038-ba7f-4d0a-f95a-777781148ee0"
      },
      "source": [
        "def f():\n",
        "  print('Tracing')\n",
        "  tf.print('run')\n",
        "\n",
        "tf.function(f)()\n",
        "tf.function(f)()"
      ],
      "execution_count": 8,
      "outputs": [
        {
          "output_type": "stream",
          "text": [
            "Tracing\n",
            "run\n",
            "Tracing\n",
            "run\n"
          ],
          "name": "stdout"
        }
      ]
    },
    {
      "cell_type": "markdown",
      "metadata": {
        "id": "wl9PUBuG2F0X"
      },
      "source": [
        "**variable with tf.function**"
      ]
    },
    {
      "cell_type": "code",
      "metadata": {
        "colab": {
          "base_uri": "https://localhost:8080/"
        },
        "id": "Mq8xFUoD2Q-y",
        "outputId": "12e7ba4e-6656-4d6d-d65b-09404696253a"
      },
      "source": [
        "@tf.function\n",
        "def f(x):\n",
        "  v = tf.Variable(1.0)\n",
        "  v.assign_add(x)\n",
        "  return v\n",
        "\n",
        "with assert_raises(ValueError):\n",
        "  f(1.0)"
      ],
      "execution_count": 9,
      "outputs": [
        {
          "output_type": "stream",
          "text": [
            "Throwing the expected exception \n",
            "  <class 'ValueError'>:\n"
          ],
          "name": "stdout"
        },
        {
          "output_type": "stream",
          "text": [
            "Traceback (most recent call last):\n",
            "  File \"<ipython-input-1-4081a9e711c4>\", line 9, in assert_raises\n",
            "    yield\n",
            "  File \"<ipython-input-9-73e410646579>\", line 8, in <module>\n",
            "    f(1.0)\n",
            "ValueError: in user code:\n",
            "\n",
            "    <ipython-input-9-73e410646579>:3 f  *\n",
            "        v = tf.Variable(1.0)\n",
            "    /usr/local/lib/python3.7/dist-packages/tensorflow/python/ops/variables.py:262 __call__  **\n",
            "        return cls._variable_v2_call(*args, **kwargs)\n",
            "    /usr/local/lib/python3.7/dist-packages/tensorflow/python/ops/variables.py:256 _variable_v2_call\n",
            "        shape=shape)\n",
            "    /usr/local/lib/python3.7/dist-packages/tensorflow/python/ops/variables.py:67 getter\n",
            "        return captured_getter(captured_previous, **kwargs)\n",
            "    /usr/local/lib/python3.7/dist-packages/tensorflow/python/eager/def_function.py:731 invalid_creator_scope\n",
            "        \"tf.function-decorated function tried to create \"\n",
            "\n",
            "    ValueError: tf.function-decorated function tried to create variables on non-first call.\n",
            "\n"
          ],
          "name": "stderr"
        }
      ]
    },
    {
      "cell_type": "code",
      "metadata": {
        "colab": {
          "base_uri": "https://localhost:8080/"
        },
        "id": "z153l2Ro2Rm0",
        "outputId": "7526fc02-d200-4155-c8ae-93cba9ff83ce"
      },
      "source": [
        "v = tf.Variable(1.0)\n",
        "\n",
        "@tf.function\n",
        "def f(x):\n",
        "  return v.assign_add(x)\n",
        "\n",
        "print(f(1.0))  # 2.0\n",
        "print(f(2.0))  # 4.0"
      ],
      "execution_count": 10,
      "outputs": [
        {
          "output_type": "stream",
          "text": [
            "tf.Tensor(2.0, shape=(), dtype=float32)\n",
            "tf.Tensor(4.0, shape=(), dtype=float32)\n"
          ],
          "name": "stdout"
        }
      ]
    },
    {
      "cell_type": "markdown",
      "metadata": {
        "id": "-FdDudps2Web"
      },
      "source": [
        "**Generate variables only the first time a function is called**"
      ]
    },
    {
      "cell_type": "code",
      "metadata": {
        "colab": {
          "base_uri": "https://localhost:8080/"
        },
        "id": "GdwLriCk2UhA",
        "outputId": "2a880446-f92a-40dd-a1c6-dba48aad717c"
      },
      "source": [
        "class C:\n",
        "  pass\n",
        "\n",
        "obj = C()\n",
        "obj.v = None\n",
        "\n",
        "@tf.function\n",
        "def g(x):\n",
        "  if obj.v is None:\n",
        "    obj.v = tf.Variable(1.0)\n",
        "  return obj.v.assign_add(x)\n",
        "\n",
        "print(g(1.0))  # 2.0\n",
        "print(g(2.0))  # 4.0"
      ],
      "execution_count": 11,
      "outputs": [
        {
          "output_type": "stream",
          "text": [
            "tf.Tensor(2.0, shape=(), dtype=float32)\n",
            "tf.Tensor(4.0, shape=(), dtype=float32)\n"
          ],
          "name": "stdout"
        }
      ]
    },
    {
      "cell_type": "markdown",
      "metadata": {
        "id": "fWUKHhtM2d1a"
      },
      "source": [
        "**AutoGraph Transform**"
      ]
    },
    {
      "cell_type": "code",
      "metadata": {
        "colab": {
          "base_uri": "https://localhost:8080/"
        },
        "id": "7OItTYqp2hTL",
        "outputId": "e612bff0-977e-405c-bba2-ea4193cad2a2"
      },
      "source": [
        "@tf.function\n",
        "def f(x):\n",
        "  while tf.reduce_sum(x) > 1:\n",
        "    tf.print(x)\n",
        "    x = tf.tanh(x)\n",
        "  return x\n",
        "\n",
        "f(tf.random.uniform([5]))"
      ],
      "execution_count": 12,
      "outputs": [
        {
          "output_type": "stream",
          "text": [
            "[0.171340346 0.569562316 0.432840586 0.880022526 0.629393935]\n",
            "[0.169683099 0.515037775 0.407692462 0.706430674 0.55763483]\n",
            "[0.168073103 0.473861068 0.386511624 0.608433783 0.50622046]\n",
            "[0.166508153 0.441313714 0.368349016 0.543023705 0.46699515]\n",
            "[0.164986193 0.414732754 0.352546722 0.495273381 0.435768247]\n",
            "[0.163505301 0.392483801 0.338632166 0.458391845 0.41013059]\n",
            "[0.162063658 0.373499483 0.326255679 0.428772599 0.388583511]\n",
            "[0.160659537 0.357048869 0.315152347 0.404295 0.370138437]\n",
            "[0.159291372 0.342611939 0.305117071 0.383617908 0.354112774]\n",
            "[0.157957628 0.329807192 0.295988411 0.365845293 0.340017885]\n",
            "[0.156656876 0.318347484 0.287637144 0.350352317 0.32749337]\n",
            "[0.155387789 0.308011949 0.279958576 0.336687922 0.316266626]\n",
            "[0.1541491 0.298627436 0.272866696 0.32451728 0.30612728]\n",
            "[0.152939618 0.29005602 0.266290277 0.313585728 0.296909839]\n",
            "[0.151758209 0.282186359 0.260169566 0.303695619 0.28848213]\n",
            "[0.150603801 0.274927378 0.254454106 0.294690937 0.280737132]\n",
            "[0.149475396 0.268203795 0.249100983 0.286446601 0.273587137]\n",
            "[0.148372 0.261952668 0.244073376 0.278860956 0.266959488]\n",
            "[0.147292718 0.25612098 0.239339501 0.271850526 0.260793328]\n",
            "[0.146236688 0.250663757 0.234871775 0.265345901 0.255037397]\n",
            "[0.145203069 0.245542496 0.230646104 0.259288877 0.249648]\n",
            "[0.144191116 0.240723953 0.226641357 0.253630251 0.244587734]\n",
            "[0.143200055 0.236179411 0.222838864 0.248328075 0.239824325]\n",
            "[0.14222917 0.231883794 0.219222143 0.243346363 0.235329792]\n",
            "[0.141277805 0.227815121 0.215776518 0.238654 0.231079713]\n",
            "[0.14034529 0.223954052 0.212488905 0.234223977 0.227052614]\n",
            "[0.139431044 0.220283478 0.209347531 0.230032682 0.223229662]\n",
            "[0.138534427 0.216788217 0.206341878 0.226059347 0.219594121]\n"
          ],
          "name": "stdout"
        },
        {
          "output_type": "execute_result",
          "data": {
            "text/plain": [
              "<tf.Tensor: shape=(5,), dtype=float32, numpy=\n",
              "array([0.13765493, 0.21345471, 0.20346244, 0.22228569, 0.21613117],\n",
              "      dtype=float32)>"
            ]
          },
          "metadata": {
            "tags": []
          },
          "execution_count": 12
        }
      ]
    },
    {
      "cell_type": "code",
      "metadata": {
        "colab": {
          "base_uri": "https://localhost:8080/"
        },
        "id": "9A5Cl4U72igS",
        "outputId": "ac79c3c2-7b45-4894-ad9a-332d70aadbec"
      },
      "source": [
        "print(tf.autograph.to_code(f.python_function))"
      ],
      "execution_count": 13,
      "outputs": [
        {
          "output_type": "stream",
          "text": [
            "def tf__f(x):\n",
            "    with ag__.FunctionScope('f', 'fscope', ag__.ConversionOptions(recursive=True, user_requested=True, optional_features=(), internal_convert_user_code=True)) as fscope:\n",
            "        do_return = False\n",
            "        retval_ = ag__.UndefinedReturnValue()\n",
            "\n",
            "        def get_state():\n",
            "            return (x,)\n",
            "\n",
            "        def set_state(vars_):\n",
            "            nonlocal x\n",
            "            (x,) = vars_\n",
            "\n",
            "        def loop_body():\n",
            "            nonlocal x\n",
            "            ag__.converted_call(ag__.ld(tf).print, (ag__.ld(x),), None, fscope)\n",
            "            x = ag__.converted_call(ag__.ld(tf).tanh, (ag__.ld(x),), None, fscope)\n",
            "\n",
            "        def loop_test():\n",
            "            return (ag__.converted_call(ag__.ld(tf).reduce_sum, (ag__.ld(x),), None, fscope) > 1)\n",
            "        ag__.while_stmt(loop_test, loop_body, get_state, set_state, ('x',), {})\n",
            "        try:\n",
            "            do_return = True\n",
            "            retval_ = ag__.ld(x)\n",
            "        except:\n",
            "            do_return = False\n",
            "            raise\n",
            "        return fscope.ret(retval_, do_return)\n",
            "\n"
          ],
          "name": "stdout"
        }
      ]
    },
    {
      "cell_type": "markdown",
      "metadata": {
        "id": "Z23y7GsC2lDX"
      },
      "source": [
        "**if condition with tf.function**"
      ]
    },
    {
      "cell_type": "code",
      "metadata": {
        "colab": {
          "base_uri": "https://localhost:8080/"
        },
        "id": "JTg0VSBX2o2v",
        "outputId": "6e803b41-3518-4dde-d27d-259e0690c663"
      },
      "source": [
        "@tf.function\n",
        "def fizzbuzz(n):\n",
        "  for i in tf.range(1, n + 1):\n",
        "    print('loop tracing')\n",
        "    if i % 15 == 0:\n",
        "      print('fizzbuzz branch tracing')\n",
        "      tf.print('fizzbuzz')\n",
        "    elif i % 3 == 0:\n",
        "      print('fizz branch tracing')\n",
        "      tf.print('fizz')\n",
        "    elif i % 5 == 0:\n",
        "      print('buzz branch tracing')\n",
        "      tf.print('buzz')\n",
        "    else:\n",
        "      print('default branch tracing')\n",
        "      tf.print(i)\n",
        "\n",
        "fizzbuzz(tf.constant(5))\n",
        "fizzbuzz(tf.constant(20))"
      ],
      "execution_count": 14,
      "outputs": [
        {
          "output_type": "stream",
          "text": [
            "loop tracing\n",
            "fizzbuzz branch tracing\n",
            "fizz branch tracing\n",
            "buzz branch tracing\n",
            "default branch tracing\n",
            "1\n",
            "2\n",
            "fizz\n",
            "4\n",
            "buzz\n",
            "1\n",
            "2\n",
            "fizz\n",
            "4\n",
            "buzz\n",
            "fizz\n",
            "7\n",
            "8\n",
            "fizz\n",
            "buzz\n",
            "11\n",
            "fizz\n",
            "13\n",
            "14\n",
            "fizzbuzz\n",
            "16\n",
            "17\n",
            "fizz\n",
            "19\n",
            "buzz\n"
          ],
          "name": "stdout"
        }
      ]
    },
    {
      "cell_type": "markdown",
      "metadata": {
        "id": "PxOEtqLh2wrV"
      },
      "source": [
        "**tf.TensorArray (To accumulate values over and over again)**"
      ]
    },
    {
      "cell_type": "code",
      "metadata": {
        "colab": {
          "base_uri": "https://localhost:8080/"
        },
        "id": "rb1FG_nl2-I7",
        "outputId": "ee683293-f617-4072-b931-b64c97aa0747"
      },
      "source": [
        "batch_size = 2\n",
        "seq_len = 3\n",
        "feature_size = 4\n",
        "\n",
        "def rnn_step(inp, state):\n",
        "  return inp + state\n",
        "\n",
        "@tf.function\n",
        "def dynamic_rnn(rnn_step, input_data, initial_state):\n",
        "  # [batch, time, features] -> [time, batch, features]\n",
        "  input_data = tf.transpose(input_data, [1, 0, 2])\n",
        "  max_seq_len = input_data.shape[0]\n",
        "\n",
        "  states = tf.TensorArray(tf.float32, size=max_seq_len)\n",
        "  state = initial_state\n",
        "  for i in tf.range(max_seq_len):\n",
        "    state = rnn_step(input_data[i], state)\n",
        "    states = states.write(i, state)\n",
        "  return tf.transpose(states.stack(), [1, 0, 2])\n",
        "  \n",
        "dynamic_rnn(rnn_step,\n",
        "            tf.random.uniform([batch_size, seq_len, feature_size]),\n",
        "            tf.zeros([batch_size, feature_size]))"
      ],
      "execution_count": 15,
      "outputs": [
        {
          "output_type": "execute_result",
          "data": {
            "text/plain": [
              "<tf.Tensor: shape=(2, 3, 4), dtype=float32, numpy=\n",
              "array([[[0.9214865 , 0.6157757 , 0.60765004, 0.71412957],\n",
              "        [1.6668649 , 1.3030404 , 1.499007  , 1.0704623 ],\n",
              "        [1.7947794 , 2.1624327 , 1.5400409 , 1.2879518 ]],\n",
              "\n",
              "       [[0.8468505 , 0.47634947, 0.5120218 , 0.9935986 ],\n",
              "        [1.7853754 , 0.63917863, 1.2135186 , 1.4873818 ],\n",
              "        [2.1632028 , 1.482266  , 1.4630289 , 1.9394392 ]]], dtype=float32)>"
            ]
          },
          "metadata": {
            "tags": []
          },
          "execution_count": 15
        }
      ]
    }
  ]
}