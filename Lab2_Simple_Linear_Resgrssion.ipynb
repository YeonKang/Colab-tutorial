{
  "nbformat": 4,
  "nbformat_minor": 0,
  "metadata": {
    "colab": {
      "name": "Lab2_Simple_Linear_Resgrssion.ipynb",
      "provenance": [],
      "authorship_tag": "ABX9TyNA8gsuRCsrUckZWHYl71mE",
      "include_colab_link": true
    },
    "kernelspec": {
      "name": "python3",
      "display_name": "Python 3"
    }
  },
  "cells": [
    {
      "cell_type": "markdown",
      "metadata": {
        "id": "view-in-github",
        "colab_type": "text"
      },
      "source": [
        "<a href=\"https://colab.research.google.com/github/YeonKang/Tensorflow-with-Colab/blob/master/Lab2_Simple_Linear_Resgrssion.ipynb\" target=\"_parent\"><img src=\"https://colab.research.google.com/assets/colab-badge.svg\" alt=\"Open In Colab\"/></a>"
      ]
    },
    {
      "cell_type": "code",
      "metadata": {
        "colab": {
          "base_uri": "https://localhost:8080/"
        },
        "id": "Pj3NeRj5b8SF",
        "outputId": "36226b2d-9505-48e3-e0be-f4fe76c43c34"
      },
      "source": [
        "import tensorflow as tf\r\n",
        "import numpy as np\r\n",
        "import matplotlib.pyplot as plt\r\n",
        "\r\n",
        "print(tf.__version__)"
      ],
      "execution_count": 2,
      "outputs": [
        {
          "output_type": "stream",
          "text": [
            "2.4.0\n"
          ],
          "name": "stdout"
        }
      ]
    },
    {
      "cell_type": "markdown",
      "metadata": {
        "id": "7rniPBPcjlJ3"
      },
      "source": [
        "**Set data**"
      ]
    },
    {
      "cell_type": "code",
      "metadata": {
        "id": "TrSUTScYcLDB"
      },
      "source": [
        "x_data = [1, 2, 3, 4, 5]\r\n",
        "y_data = [1, 2, 3, 4, 5]"
      ],
      "execution_count": 3,
      "outputs": []
    },
    {
      "cell_type": "code",
      "metadata": {
        "colab": {
          "base_uri": "https://localhost:8080/",
          "height": 287
        },
        "id": "QTlzoMyNjrsx",
        "outputId": "6cdb2c8f-3e2a-4065-a536-83351a3e25e2"
      },
      "source": [
        "plt.plot(x_data, y_data, 'o')\r\n",
        "plt.ylim(0, 8)"
      ],
      "execution_count": 4,
      "outputs": [
        {
          "output_type": "execute_result",
          "data": {
            "text/plain": [
              "(0.0, 8.0)"
            ]
          },
          "metadata": {
            "tags": []
          },
          "execution_count": 4
        },
        {
          "output_type": "display_data",
          "data": {
            "image/png": "[encoded data removed]",
            "text/plain": [
              "<Figure size 432x288 with 1 Axes>"
            ]
          },
          "metadata": {
            "tags": [],
            "needs_background": "light"
          }
        }
      ]
    },
    {
      "cell_type": "markdown",
      "metadata": {
        "id": "5WvmczSUjvaL"
      },
      "source": [
        "**Hypothesis** $H(x)=Wx+b$"
      ]
    },
    {
      "cell_type": "code",
      "metadata": {
        "colab": {
          "base_uri": "https://localhost:8080/"
        },
        "id": "jAB7ayCjjuqG",
        "outputId": "05b809d2-1de4-4c30-9896-f84023f57bc7"
      },
      "source": [
        "v =[1., 2., 3., 4.]\r\n",
        "tf.reduce_mean(v)"
      ],
      "execution_count": 5,
      "outputs": [
        {
          "output_type": "execute_result",
          "data": {
            "text/plain": [
              "<tf.Tensor: shape=(), dtype=float32, numpy=2.5>"
            ]
          },
          "metadata": {
            "tags": []
          },
          "execution_count": 5
        }
      ]
    },
    {
      "cell_type": "code",
      "metadata": {
        "colab": {
          "base_uri": "https://localhost:8080/"
        },
        "id": "a5ZR5Jd9j0mk",
        "outputId": "bb0a9933-9a8b-46ab-b488-b45d31a28d0e"
      },
      "source": [
        "tf.square(3)"
      ],
      "execution_count": 6,
      "outputs": [
        {
          "output_type": "execute_result",
          "data": {
            "text/plain": [
              "<tf.Tensor: shape=(), dtype=int32, numpy=9>"
            ]
          },
          "metadata": {
            "tags": []
          },
          "execution_count": 6
        }
      ]
    },
    {
      "cell_type": "code",
      "metadata": {
        "id": "XOPmwSHikczq"
      },
      "source": [
        "x_data = [1, 2, 3, 4, 5]\r\n",
        "y_data = [1, 2, 3, 4, 5]\r\n",
        "\r\n",
        "W = tf.Variable(2.0)\r\n",
        "b = tf.Variable(0.5)\r\n",
        "\r\n",
        "hypothesis = W * x_data + b"
      ],
      "execution_count": 8,
      "outputs": []
    },
    {
      "cell_type": "code",
      "metadata": {
        "colab": {
          "base_uri": "https://localhost:8080/"
        },
        "id": "KfjgPVUsl1BL",
        "outputId": "3c296637-acab-4539-c174-f6a6b4b80945"
      },
      "source": [
        "W.numpy(), b.numpy()"
      ],
      "execution_count": 9,
      "outputs": [
        {
          "output_type": "execute_result",
          "data": {
            "text/plain": [
              "(2.0, 0.5)"
            ]
          },
          "metadata": {
            "tags": []
          },
          "execution_count": 9
        }
      ]
    },
    {
      "cell_type": "code",
      "metadata": {
        "colab": {
          "base_uri": "https://localhost:8080/"
        },
        "id": "SBY6naQyl3Vl",
        "outputId": "e4b18e91-f6b7-4718-8cd1-f12fd6181e32"
      },
      "source": [
        "hypothesis.numpy()"
      ],
      "execution_count": 10,
      "outputs": [
        {
          "output_type": "execute_result",
          "data": {
            "text/plain": [
              "array([ 2.5,  4.5,  6.5,  8.5, 10.5], dtype=float32)"
            ]
          },
          "metadata": {
            "tags": []
          },
          "execution_count": 10
        }
      ]
    },
    {
      "cell_type": "code",
      "metadata": {
        "colab": {
          "base_uri": "https://localhost:8080/",
          "height": 269
        },
        "id": "8naJPXXjl6kH",
        "outputId": "bea61e8c-5209-414f-b43d-7c44b0e02114"
      },
      "source": [
        "plt.plot(x_data, hypothesis.numpy(), 'r-')\r\n",
        "plt.plot(x_data, y_data, 'o')\r\n",
        "plt.ylim(0, 8)\r\n",
        "plt.show()"
      ],
      "execution_count": 11,
      "outputs": [
        {
          "output_type": "display_data",
          "data": {
            "image/png": "[encoded data removed]",
            "text/plain": [
              "<Figure size 432x288 with 1 Axes>"
            ]
          },
          "metadata": {
            "tags": [],
            "needs_background": "light"
          }
        }
      ]
    },
    {
      "cell_type": "markdown",
      "metadata": {
        "id": "oFO0d1o2l_E6"
      },
      "source": [
        "**Cost** $C(W)=\\frac{1}{m}\\Sigma^m_{i=1}(Wx_i-y_i)^2$"
      ]
    },
    {
      "cell_type": "code",
      "metadata": {
        "id": "fCwwueB0m2zr"
      },
      "source": [
        "cost = tf.reduce_mean(tf.square(hypothesis - y_data))"
      ],
      "execution_count": 12,
      "outputs": []
    },
    {
      "cell_type": "code",
      "metadata": {
        "colab": {
          "base_uri": "https://localhost:8080/"
        },
        "id": "aazhZKwum77v",
        "outputId": "1a7e679e-902b-4bb8-e7f7-ffe5aac8e2f7"
      },
      "source": [
        "with tf.GradientTape() as tape:\r\n",
        "    hypothesis = W * x_data + b\r\n",
        "    cost = tf.reduce_mean(tf.square(hypothesis - y_data))\r\n",
        "\r\n",
        "W_grad, b_grad = tape.gradient(cost, [W, b])\r\n",
        "W_grad.numpy(), b_grad.numpy()"
      ],
      "execution_count": 13,
      "outputs": [
        {
          "output_type": "execute_result",
          "data": {
            "text/plain": [
              "(25.0, 7.0)"
            ]
          },
          "metadata": {
            "tags": []
          },
          "execution_count": 13
        }
      ]
    },
    {
      "cell_type": "markdown",
      "metadata": {
        "id": "NSLgSTpYm9W9"
      },
      "source": [
        "**Parameter update**"
      ]
    },
    {
      "cell_type": "code",
      "metadata": {
        "colab": {
          "base_uri": "https://localhost:8080/"
        },
        "id": "1j5Cm7dYm_eX",
        "outputId": "9ecab006-d8bc-4c34-9837-bdf75ee64e82"
      },
      "source": [
        "learning_rate = 0.01\r\n",
        "\r\n",
        "W.assign_sub(learning_rate * W_grad)\r\n",
        "b.assign_sub(learning_rate * b_grad)\r\n",
        "\r\n",
        "W.numpy(), b.numpy()"
      ],
      "execution_count": 14,
      "outputs": [
        {
          "output_type": "execute_result",
          "data": {
            "text/plain": [
              "(1.75, 0.43)"
            ]
          },
          "metadata": {
            "tags": []
          },
          "execution_count": 14
        }
      ]
    },
    {
      "cell_type": "code",
      "metadata": {
        "colab": {
          "base_uri": "https://localhost:8080/",
          "height": 287
        },
        "id": "QUkZKgGvowxs",
        "outputId": "b1db21f5-565d-421c-a7a6-830065d2d078"
      },
      "source": [
        "plt.plot(x_data, hypothesis.numpy(), 'r-')\r\n",
        "plt.plot(x_data, y_data, 'o')\r\n",
        "plt.ylim(0, 8)"
      ],
      "execution_count": 15,
      "outputs": [
        {
          "output_type": "execute_result",
          "data": {
            "text/plain": [
              "(0.0, 8.0)"
            ]
          },
          "metadata": {
            "tags": []
          },
          "execution_count": 15
        },
        {
          "output_type": "display_data",
          "data": {
            "image/png": "[encoded data removed]",
            "text/plain": [
              "<Figure size 432x288 with 1 Axes>"
            ]
          },
          "metadata": {
            "tags": [],
            "needs_background": "light"
          }
        }
      ]
    },
    {
      "cell_type": "markdown",
      "metadata": {
        "id": "SyOaTy6MoyQY"
      },
      "source": [
        "**training model**"
      ]
    },
    {
      "cell_type": "code",
      "metadata": {
        "colab": {
          "base_uri": "https://localhost:8080/",
          "height": 464
        },
        "id": "bPFY-slso2qx",
        "outputId": "76ce89cd-0041-43df-a134-12cfa3deb35f"
      },
      "source": [
        "W = tf.Variable(2.9)\r\n",
        "b = tf.Variable(0.5)\r\n",
        "\r\n",
        "for i in range(100):\r\n",
        "    with tf.GradientTape() as tape:\r\n",
        "        hypothesis = W * x_data + b\r\n",
        "        cost = tf.reduce_mean(tf.square(hypothesis - y_data))\r\n",
        "    W_grad, b_grad = tape.gradient(cost, [W, b])\r\n",
        "    W.assign_sub(learning_rate * W_grad)\r\n",
        "    b.assign_sub(learning_rate * b_grad)\r\n",
        "    if i % 10 == 0:\r\n",
        "      print(\"{:5}|{:10.4f}|{:10.4f}|{:10.6f}\".format(i, W.numpy(), b.numpy(), cost))\r\n",
        "\r\n",
        "plt.plot(x_data, y_data, 'o')\r\n",
        "plt.plot(x_data, hypothesis.numpy(), 'r-')\r\n",
        "plt.ylim(0, 8)"
      ],
      "execution_count": 16,
      "outputs": [
        {
          "output_type": "stream",
          "text": [
            "    0|    2.4520|    0.3760| 45.660004\n",
            "   10|    1.1036|    0.0034|  0.206336\n",
            "   20|    1.0128|   -0.0209|  0.001026\n",
            "   30|    1.0065|   -0.0218|  0.000093\n",
            "   40|    1.0059|   -0.0212|  0.000083\n",
            "   50|    1.0057|   -0.0205|  0.000077\n",
            "   60|    1.0055|   -0.0198|  0.000072\n",
            "   70|    1.0053|   -0.0192|  0.000067\n",
            "   80|    1.0051|   -0.0185|  0.000063\n",
            "   90|    1.0050|   -0.0179|  0.000059\n"
          ],
          "name": "stdout"
        },
        {
          "output_type": "execute_result",
          "data": {
            "text/plain": [
              "(0.0, 8.0)"
            ]
          },
          "metadata": {
            "tags": []
          },
          "execution_count": 16
        },
        {
          "output_type": "display_data",
          "data": {
            "image/png": "[encoded data removed]",
            "text/plain": [
              "<Figure size 432x288 with 1 Axes>"
            ]
          },
          "metadata": {
            "tags": [],
            "needs_background": "light"
          }
        }
      ]
    },
    {
      "cell_type": "markdown",
      "metadata": {
        "id": "FqfCqdh1pC3v"
      },
      "source": [
        "**predict with trained model**"
      ]
    },
    {
      "cell_type": "code",
      "metadata": {
        "colab": {
          "base_uri": "https://localhost:8080/"
        },
        "id": "UF5OfEbCpFwP",
        "outputId": "d7d80328-b00d-4d9f-c962-2477cac1bb9c"
      },
      "source": [
        "print(W * 5 + b)\r\n",
        "print(W * 2.5 + b)"
      ],
      "execution_count": 17,
      "outputs": [
        {
          "output_type": "stream",
          "text": [
            "tf.Tensor(5.0066934, shape=(), dtype=float32)\n",
            "tf.Tensor(2.4946523, shape=(), dtype=float32)\n"
          ],
          "name": "stdout"
        }
      ]
    }
  ]
}