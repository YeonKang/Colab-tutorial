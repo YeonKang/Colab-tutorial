{
  "nbformat": 4,
  "nbformat_minor": 0,
  "metadata": {
    "colab": {
      "name": "Lab12_0_RNN_basic.ipynb",
      "provenance": [],
      "authorship_tag": "ABX9TyOd6ZwXQIV6qIv5Asw5Vq24",
      "include_colab_link": true
    },
    "kernelspec": {
      "name": "python3",
      "display_name": "Python 3"
    },
    "language_info": {
      "name": "python"
    }
  },
  "cells": [
    {
      "cell_type": "markdown",
      "metadata": {
        "id": "view-in-github",
        "colab_type": "text"
      },
      "source": [
        "<a href=\"https://colab.research.google.com/github/YeonKang/Tensorflow-with-Colab/blob/master/Lab12_0_RNN_basic.ipynb\" target=\"_parent\"><img src=\"https://colab.research.google.com/assets/colab-badge.svg\" alt=\"Open In Colab\"/></a>"
      ]
    },
    {
      "cell_type": "code",
      "metadata": {
        "id": "RvmxO-eeL4w3",
        "colab": {
          "base_uri": "https://localhost:8080/"
        },
        "outputId": "fd838e6c-a29e-4fc9-b36d-4df3ab4d9aac"
      },
      "source": [
        "import numpy as np\n",
        "import tensorflow as tf\n",
        "from tensorflow import keras\n",
        "from tensorflow.keras import layers\n",
        "from tensorflow.keras import Sequential, Model\n",
        "\n",
        "print(tf.__version__)"
      ],
      "execution_count": 1,
      "outputs": [
        {
          "output_type": "stream",
          "text": [
            "2.4.1\n"
          ],
          "name": "stdout"
        }
      ]
    },
    {
      "cell_type": "markdown",
      "metadata": {
        "id": "1LL5blX6MHWe"
      },
      "source": [
        "**Preparing dataset**"
      ]
    },
    {
      "cell_type": "code",
      "metadata": {
        "id": "RUfZ7sSdMJcX"
      },
      "source": [
        "# One hot encoding for each char in 'hello'\n",
        "h = [1, 0, 0, 0]\n",
        "e = [0, 1, 0, 0]\n",
        "l = [0, 0, 1, 0]\n",
        "o = [0, 0, 0, 1]"
      ],
      "execution_count": 2,
      "outputs": []
    },
    {
      "cell_type": "code",
      "metadata": {
        "id": "ViBB563PMMQU",
        "colab": {
          "base_uri": "https://localhost:8080/"
        },
        "outputId": "66b48d62-bb0c-492e-b554-87d8e8189a41"
      },
      "source": [
        "# One cell RNN input_dim (4) -> output_dim (2)\n",
        "x_data = np.array([[h]], dtype=np.float32)\n",
        "\n",
        "hidden_size = 2\n",
        "cell = layers.SimpleRNNCell(units=hidden_size) # creating SimpleRNNCell\n",
        "rnn = layers.RNN(cell, return_sequences=True, return_state=True) # analogous to tf.nn.dynamic_rnn\n",
        "outputs, states = rnn(x_data)\n",
        "\n",
        "print('x_data: {}, shape: {}'.format(x_data, x_data.shape))\n",
        "print('outputs: {}, shape: {}'.format(outputs, outputs.shape))\n",
        "print('states: {}, shape: {}'.format(states, states.shape))"
      ],
      "execution_count": 3,
      "outputs": [
        {
          "output_type": "stream",
          "text": [
            "x_data: [[[1. 0. 0. 0.]]], shape: (1, 1, 4)\n",
            "outputs: [[[ 0.39615205 -0.11010152]]], shape: (1, 1, 2)\n",
            "states: [[ 0.39615205 -0.11010152]], shape: (1, 2)\n"
          ],
          "name": "stdout"
        }
      ]
    },
    {
      "cell_type": "code",
      "metadata": {
        "id": "OY83Q31RMOPB",
        "colab": {
          "base_uri": "https://localhost:8080/"
        },
        "outputId": "53091bc8-84b2-4631-cb36-aee1372280fc"
      },
      "source": [
        "# equivalent to above case\n",
        "rnn = layers.SimpleRNN(units=hidden_size, return_sequences=True,\n",
        "                       return_state=True) # layers.SimpleRNNCell + layers.RNN\n",
        "\n",
        "outputs, states = rnn(x_data)\n",
        "\n",
        "print('x_data: {}, shape: {}'.format(x_data, x_data.shape))\n",
        "print('outputs: {}, shape: {}'.format(outputs, outputs.shape))\n",
        "print('states: {}, shape: {}'.format(states, states.shape))"
      ],
      "execution_count": 4,
      "outputs": [
        {
          "output_type": "stream",
          "text": [
            "x_data: [[[1. 0. 0. 0.]]], shape: (1, 1, 4)\n",
            "outputs: [[[-0.60244346  0.5585294 ]]], shape: (1, 1, 2)\n",
            "states: [[-0.60244346  0.5585294 ]], shape: (1, 2)\n"
          ],
          "name": "stdout"
        }
      ]
    },
    {
      "cell_type": "markdown",
      "metadata": {
        "id": "RFHUzZr2MQ1U"
      },
      "source": [
        "**Unfolding to n sequences**"
      ]
    },
    {
      "cell_type": "code",
      "metadata": {
        "id": "iRVg9c7QMSWF",
        "colab": {
          "base_uri": "https://localhost:8080/"
        },
        "outputId": "a37cdba1-ecf2-49d5-e78b-e3a63b23d38a"
      },
      "source": [
        "# One cell RNN input_dim (4) -> output_dim (2). sequence: 5\n",
        "x_data = np.array([[h, e, l, l, o]], dtype=np.float32)\n",
        "\n",
        "hidden_size = 2\n",
        "rnn = layers.SimpleRNN(units=2, return_sequences=True, return_state=True)    \n",
        "outputs, states = rnn(x_data)\n",
        "\n",
        "print('x_data: {}, shape: {} \\n'.format(x_data, x_data.shape))\n",
        "print('outputs: {}, shape: {} \\n'.format(outputs, outputs.shape))\n",
        "print('states: {}, shape: {}'.format(states, states.shape))"
      ],
      "execution_count": 5,
      "outputs": [
        {
          "output_type": "stream",
          "text": [
            "x_data: [[[1. 0. 0. 0.]\n",
            "  [0. 1. 0. 0.]\n",
            "  [0. 0. 1. 0.]\n",
            "  [0. 0. 1. 0.]\n",
            "  [0. 0. 0. 1.]]], shape: (1, 5, 4) \n",
            "\n",
            "outputs: [[[-0.1590885  -0.60971105]\n",
            "  [ 0.03720443  0.36625102]\n",
            "  [ 0.51899314  0.06024363]\n",
            "  [ 0.75944597  0.41930613]\n",
            "  [-0.3906554   0.92435956]]], shape: (1, 5, 2) \n",
            "\n",
            "states: [[-0.3906554   0.92435956]], shape: (1, 2)\n"
          ],
          "name": "stdout"
        }
      ]
    },
    {
      "cell_type": "code",
      "metadata": {
        "colab": {
          "base_uri": "https://localhost:8080/"
        },
        "id": "rmeefYRCLEGB",
        "outputId": "6b46ecf9-f84e-44fd-9431-dc24758c6f60"
      },
      "source": [
        "# One cell RNN input_dim (4) -> output_dim (2). sequence: 5, batch 3\n",
        "# 3 batches 'hello', 'eolll', 'lleel'\n",
        "x_data = np.array([[h, e, l, l, o],\n",
        "                   [e, o, l, l, l],\n",
        "                   [l, l, e, e, l]], dtype=np.float32)\n",
        "\n",
        "hidden_size = 2\n",
        "rnn = layers.SimpleRNN(units=2, return_sequences=True, return_state=True)    \n",
        "outputs, states = rnn(x_data)\n",
        "\n",
        "print('x_data: {}, shape: {} \\n'.format(x_data, x_data.shape))\n",
        "print('outputs: {}, shape: {} \\n'.format(outputs, outputs.shape))\n",
        "print('states: {}, shape: {}'.format(states, states.shape))"
      ],
      "execution_count": 6,
      "outputs": [
        {
          "output_type": "stream",
          "text": [
            "x_data: [[[1. 0. 0. 0.]\n",
            "  [0. 1. 0. 0.]\n",
            "  [0. 0. 1. 0.]\n",
            "  [0. 0. 1. 0.]\n",
            "  [0. 0. 0. 1.]]\n",
            "\n",
            " [[0. 1. 0. 0.]\n",
            "  [0. 0. 0. 1.]\n",
            "  [0. 0. 1. 0.]\n",
            "  [0. 0. 1. 0.]\n",
            "  [0. 0. 1. 0.]]\n",
            "\n",
            " [[0. 0. 1. 0.]\n",
            "  [0. 0. 1. 0.]\n",
            "  [0. 1. 0. 0.]\n",
            "  [0. 1. 0. 0.]\n",
            "  [0. 0. 1. 0.]]], shape: (3, 5, 4) \n",
            "\n",
            "outputs: [[[-0.3750637   0.35565922]\n",
            "  [ 0.5818314  -0.34712997]\n",
            "  [-0.10532668 -0.04176805]\n",
            "  [ 0.56912124 -0.0459118 ]\n",
            "  [-0.561982    0.77465093]]\n",
            "\n",
            " [[ 0.17527618 -0.48705086]\n",
            "  [-0.42851135  0.4364203 ]\n",
            "  [ 0.81354624  0.25157124]\n",
            "  [-0.07068153  0.5365047 ]\n",
            "  [ 0.6923142   0.45852274]]\n",
            "\n",
            " [[ 0.5134332   0.03541894]\n",
            "  [ 0.11341915  0.27180278]\n",
            "  [ 0.18336391 -0.23340502]\n",
            "  [-0.08579395 -0.5846947 ]\n",
            "  [ 0.3843914  -0.4875433 ]]], shape: (3, 5, 2) \n",
            "\n",
            "states: [[-0.561982    0.77465093]\n",
            " [ 0.6923142   0.45852274]\n",
            " [ 0.3843914  -0.4875433 ]], shape: (3, 2)\n"
          ],
          "name": "stdout"
        }
      ]
    }
  ]
}