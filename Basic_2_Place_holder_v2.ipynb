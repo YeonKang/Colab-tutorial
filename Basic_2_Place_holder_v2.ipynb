{
  "nbformat": 4,
  "nbformat_minor": 0,
  "metadata": {
    "colab": {
      "name": "Basic_2_Place_holder_v2.ipynb",
      "provenance": [],
      "authorship_tag": "ABX9TyPIyoBRDkYaBCCAEHS8bFw6"
    },
    "kernelspec": {
      "name": "python3",
      "display_name": "Python 3"
    }
  },
  "cells": [
    {
      "cell_type": "code",
      "metadata": {
        "id": "a_2D4d5WKP9i",
        "colab_type": "code",
        "colab": {
          "base_uri": "https://localhost:8080/",
          "height": 53
        },
        "outputId": "6d72b969-17e1-4e8b-84e1-c10b9d0dda49"
      },
      "source": [
        "import tensorflow as tf\n",
        "import numpy as np\n",
        "\n",
        "#define adder function\n",
        "@tf.function #tensorflow auto graph. use it when you define function\n",
        "def add_two_values(x,y):\n",
        "  return x + y\n",
        "\n",
        "#open session and run graph\n",
        "print(add_two_values(3, 4.5).numpy())\n",
        "print(add_two_values(np.array([1, 3]), np.array([2, 4])).numpy())"
      ],
      "execution_count": 4,
      "outputs": [
        {
          "output_type": "stream",
          "text": [
            "7.5\n",
            "[3 7]\n"
          ],
          "name": "stdout"
        }
      ]
    },
    {
      "cell_type": "code",
      "metadata": {
        "id": "GoR76pc7MM4f",
        "colab_type": "code",
        "colab": {
          "base_uri": "https://localhost:8080/",
          "height": 35
        },
        "outputId": "210c35cd-05a7-487d-91a5-a8d5edf7c6ed"
      },
      "source": [
        "#add mode nodes and make more complex graph\n",
        "@tf.function\n",
        "def add_two_values_and_multiply_three(x, y):\n",
        "  return 3 * add_two_values(x, y)\n",
        "\n",
        "print(add_two_values_and_multiply_three(3, 4.5).numpy())"
      ],
      "execution_count": 5,
      "outputs": [
        {
          "output_type": "stream",
          "text": [
            "22.5\n"
          ],
          "name": "stdout"
        }
      ]
    }
  ]
}